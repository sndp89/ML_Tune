{
 "cells": [
  {
   "cell_type": "markdown",
   "metadata": {},
   "source": [
    "# Objective"
   ]
  },
  {
   "cell_type": "markdown",
   "metadata": {},
   "source": [
    "To predict the likelihood of digital prospects to buy Limted Basic/Blast or Limited Basic/Performance tiers when they select \n",
    "Video/HSD product mix\n",
    "\n",
    "This is a binary model"
   ]
  },
  {
   "cell_type": "markdown",
   "metadata": {},
   "source": [
    "## Business use case"
   ]
  },
  {
   "cell_type": "markdown",
   "metadata": {},
   "source": [
    "This model is to be used by the digital marketing team for prospects offer"
   ]
  },
  {
   "cell_type": "markdown",
   "metadata": {},
   "source": [
    "# Data "
   ]
  },
  {
   "cell_type": "markdown",
   "metadata": {},
   "source": [
    "Data : Input variables are aggregated 10 sessions data of prospects who converted in both dotcom and mdotcom\n",
    "\n",
    "    Raw data source: digital_modeling.omn_vw_visit_activity_dotcom + digital_modeling.omn_vw_visit_activity_mdotcom    \n",
    "    Data source for model: digital_modeling.anonymous_digital_klondike_pml_p2_data\n",
    "        \n",
    "Target : Limited Basic/Performance - 1, Limted Basic/Blast - 0\n",
    "\n",
    "Comparing trends m-o-m :   \n",
    "\n",
    "    Dev --> Jan'19    \n",
    "    OOT --> Feb'19  \n",
    "\n",
    "Customers with Video/HSD and Limted Basic/Blast + Limited Basic/Performance tiers :    \n",
    "\n",
    "    Jan'19 - 2,593   \n",
    "    Feb'19 - 1,530\n"
   ]
  },
  {
   "cell_type": "markdown",
   "metadata": {},
   "source": [
    "## Target Distribution"
   ]
  },
  {
   "cell_type": "markdown",
   "metadata": {},
   "source": [
    "46.12% - Limited Basic/Performance (1)    \n",
    "53.88% - Limted Basic/Blast (0)  \n",
    " "
   ]
  },
  {
   "cell_type": "markdown",
   "metadata": {},
   "source": [
    "### Where condition & Target definition"
   ]
  },
  {
   "cell_type": "raw",
   "metadata": {},
   "source": [
    "create table pbojja200.pml_p2_vid_tiers_targets_dev as select day_id,  concat(post_visid_high,'_',post_visid_low) as visid_hl, product_category, product_tiers, case when product_tiers = \"Limited Basic/Performance\" then 1 else 0 end as vid_tiers_target from digital_insights.ctp_addtocart_pnp_flags where mainlob_vs_nonmainlob = 'Main LOB' and event_name = 'purchase' and eligibility in ('New', 'New And Existing') and customer_account_id is null  and product_category in('Double Play: Video/HSD') and product_tiers in ('Limted Basic/Blast','Limited Basic/Performance') and day_id between '2019-01-01' and '2019-01-31' ;"
   ]
  },
  {
   "cell_type": "markdown",
   "metadata": {},
   "source": [
    "<a id='links'></a>\n",
    "[Execution](#execution)   \n",
    "[Step1 Model](#step1)   \n",
    "[Step1 Final Model](#1final)       \n",
    "[Step1 OOT](#1oot)     \n",
    "\n",
    "[Data Prep](#data_make)   \n",
    "[Final Data mapping](#datamap)    \n",
    "[WOE & IV](#WOE&IV)   \n",
    "[Categ Corr](#catg_corr)  \n",
    "[Encoder](#Encoder)  \n",
    "[Model fit](#model_fit)    \n",
    "[Metrics](#metrics)   \n",
    "[ROC AUC](#roc_auc)   \n",
    "[KS & Deciles](#ks_deciles)   \n",
    "[Plots](#plots)  \n",
    "[Final o/p variables](#score_decile_segment)"
   ]
  },
  {
   "cell_type": "markdown",
   "metadata": {},
   "source": [
    "<script>\n",
    "  function code_toggle() {\n",
    "    if (code_shown){\n",
    "      $('div.input').hide('500');\n",
    "      $('#toggleButton').val('Show Code')\n",
    "    } else {\n",
    "      $('div.input').show('500');\n",
    "      $('#toggleButton').val('Hide Code')\n",
    "    }\n",
    "    code_shown = !code_shown\n",
    "  }\n",
    "\n",
    "  $( document ).ready(function(){\n",
    "    code_shown=false;\n",
    "    $('div.input').hide()\n",
    "  });\n",
    "</script>"
   ]
  },
  {
   "cell_type": "code",
   "execution_count": 1,
   "metadata": {},
   "outputs": [
    {
     "name": "stderr",
     "output_type": "stream",
     "text": [
      "/home/ebisasicep/anaconda3/lib/python3.6/site-packages/statsmodels/compat/pandas.py:56: FutureWarning: The pandas.core.datetools module is deprecated and will be removed in a future version. Please use the pandas.tseries module instead.\n",
      "  from pandas.core import datetools\n",
      "UsageError: Line magic function `%` not found.\n"
     ]
    }
   ],
   "source": [
    "import pandas as pd\n",
    "from datetime import datetime\n",
    "from numpy import *\n",
    "from sklearn import preprocessing\n",
    "from statsmodels.stats.outliers_influence import variance_inflation_factor\n",
    "from sklearn.ensemble import RandomForestClassifier, GradientBoostingClassifier\n",
    "from sklearn.linear_model import LogisticRegression\n",
    "from sklearn.model_selection import train_test_split\n",
    "from sklearn.svm import SVC\n",
    "from sklearn.preprocessing import label_binarize\n",
    "from sklearn.metrics import *\n",
    "from sklearn import linear_model\n",
    "import matplotlib.pyplot as plt\n",
    "from collections import defaultdict\n",
    "from scipy.stats import binned_statistic\n",
    "import warnings\n",
    "from sklearn.externals import joblib\n",
    "import statsmodels.api as sm\n",
    "#pd.options.display.float_format = '{:.0f}'.format\n",
    "\n",
    "import inspect\n",
    "#inspect.getargspec(KNN)\n",
    "% matplotlib inline\n"
   ]
  },
  {
   "cell_type": "markdown",
   "metadata": {},
   "source": [
    "<a id = 'datamap'></a>"
   ]
  },
  {
   "cell_type": "code",
   "execution_count": 2,
   "metadata": {},
   "outputs": [],
   "source": [
    "def data_prep(df, var_drop, target):\n",
    "    \n",
    "    num = df.select_dtypes(include=['float64','int64']).columns\n",
    "    cat = df.select_dtypes(include=['O']).columns\n",
    "    \n",
    "    cat_var = [x for x in list(cat) if x in var_drop]\n",
    "    num_var = [x for x in list(num) if x in var_drop]\n",
    "    \n",
    "    num_var = num.drop(num_var)\n",
    "    cat_var = cat.drop(cat_var)\n",
    "    \n",
    "    num_df = pd.concat([df[num_var].fillna(0), pd.DataFrame(df[target])], axis=1)\n",
    "    cat_df = pd.concat([df[cat_var].fillna('NA').replace(' ','NA').apply(lambda x: x.astype(str).str.upper()),pd.DataFrame(df[target])], axis=1)\n",
    "\n",
    "    return num_df, cat_df, num_var, cat_var"
   ]
  },
  {
   "cell_type": "code",
   "execution_count": 3,
   "metadata": {},
   "outputs": [],
   "source": [
    "def datamap(data_full, varb, enc_map, woe_map):\n",
    "    \n",
    "    num_df = data_full[data_full.select_dtypes(include=['float64','int64']).columns].fillna(999999)\n",
    "    cat_df = data_full[data_full.select_dtypes(include=['O']).columns].replace(' ','NA').fillna('NA')\\\n",
    "                    .apply(lambda x: x.astype(str).str.upper())\n",
    "    data = pd.concat([num_df, cat_df],axis=1)\n",
    "    \n",
    "    gud = pd.DataFrame(varb[~((varb['Var_name'].str.contains('LE')) | (varb['Var_name'].str.contains('WOE')))]['Var_name'])\n",
    "    \n",
    "    enc = pd.DataFrame(varb[varb['Var_name'].str.contains('LE')]['Var_name'])\n",
    "    woe = pd.DataFrame(varb[varb['Var_name'].str.contains('WOE')]['Var_name'])\n",
    "    enc.replace({'_LE': ''}, regex=True, inplace = True)\n",
    "    woe.replace({'_WOE': ''}, regex=True, inplace = True)\n",
    "    \n",
    "    enc_res = pd.DataFrame()\n",
    "    woe_res = pd.DataFrame()\n",
    "    for k in enc['Var_name']:\n",
    "        enc_res = pd.concat([enc_res, pd.DataFrame(enc_map.get(k).transform(data[k]), columns = [str(k)+'_LE'])], axis = 1)\n",
    "    enc_res = enc_res.reindex(data.index)\n",
    "    for m in woe['Var_name']:\n",
    "        r = (pd.DataFrame(data[m]).merge(woe_map[[n for n in range(len(woe_map)) if m in woe_map[n]][0]]))\n",
    "        woe_res = pd.concat([woe_res, pd.DataFrame(r.iloc[:,1]).rename(columns = {'WOE':str(m)+'_WOE'})], axis = 1)\n",
    "    woe_res = woe_res.reindex(data.index)\n",
    "    fin_df = pd.concat([pd.DataFrame(data[gud['Var_name']]), enc_res, woe_res], axis = 1).fillna(0)\n",
    "    \n",
    "    return fin_df"
   ]
  },
  {
   "cell_type": "markdown",
   "metadata": {},
   "source": [
    "<a id='WOE&IV'></a>"
   ]
  },
  {
   "cell_type": "code",
   "execution_count": 4,
   "metadata": {},
   "outputs": [],
   "source": [
    "def woe_iv(df,var_list,target):\n",
    "    \n",
    "    r = []\n",
    "    iv = []\n",
    "    m = []\n",
    "    for i in range(len(var_list)):\n",
    "        iv.append([])\n",
    "        iv[i].append(var_list[i])\n",
    "        v = df.groupby([var_list[i],target]).size().unstack()\n",
    "        g = v.apply(lambda x: x/float(x.sum())).fillna(0)\n",
    "        v['Non event_pct'] = g[0]\n",
    "        v['Event_pct'] = g[1]\n",
    "        v['WOE'] = (log((g[1]+0.001)/(g[0]+0.001)))\n",
    "        v['IV'] = (g[1]-g[0])*v['WOE']\n",
    "        m.append(pd.DataFrame(v['WOE']).reset_index())\n",
    "        r.append(v)\n",
    "        iv[i].append(v['IV'].sum())\n",
    "    iv=pd.DataFrame(iv,columns = ['Variable_name','IV']).sort_values('IV', ascending = 0) \n",
    "    \n",
    "    return (r, iv, m)  "
   ]
  },
  {
   "cell_type": "markdown",
   "metadata": {},
   "source": [
    "<a id='catg_corr'></a>"
   ]
  },
  {
   "cell_type": "code",
   "execution_count": 5,
   "metadata": {},
   "outputs": [],
   "source": [
    "def cor_cat_var(df, woe_df, var_list):\n",
    "    res = pd.DataFrame()\n",
    "    fin_cat = pd.DataFrame()\n",
    "    \n",
    "    for i in range(len(var_list)):\n",
    "        woe = pd.DataFrame({var_list[i]+'_WOE' : woe_df[i]['WOE'].values,var_list[i]: woe_df[i]['WOE'].index})\n",
    "        var = pd.DataFrame(df.iloc[:,i]).reset_index().merge(woe).set_index('index')\n",
    "        res = pd.concat([res,var],axis=1).reindex(var.index)\n",
    "    \n",
    "    for j in range(1,len(res.columns),2):\n",
    "        fin_cat = pd.concat([fin_cat, pd.DataFrame(res.iloc[:,j])],axis = 1)\n",
    "    \n",
    "    return res, fin_cat"
   ]
  },
  {
   "cell_type": "markdown",
   "metadata": {},
   "source": [
    "<a id='Encoder'></a>"
   ]
  },
  {
   "cell_type": "code",
   "execution_count": 6,
   "metadata": {},
   "outputs": [],
   "source": [
    "def encoder(df, var_list):\n",
    "    \n",
    "    m = defaultdict(preprocessing.LabelEncoder)\n",
    "    enc_res = df[var_list].fillna('NA').replace(' ','NA').apply(lambda x: x.astype(str).str.upper()).apply(lambda x: m[x.name].fit_transform(x))\n",
    "    enc_res.columns = [str(x) +'_LE' for x in enc_res.columns]\n",
    "    \n",
    "    return enc_res, m"
   ]
  },
  {
   "cell_type": "markdown",
   "metadata": {},
   "source": [
    "<a id='model_fit'></a>"
   ]
  },
  {
   "cell_type": "code",
   "execution_count": 7,
   "metadata": {},
   "outputs": [],
   "source": [
    "def model_fit(X, Y, obj, size):\n",
    "    i = 0\n",
    "    var_list = X.columns\n",
    "    while len(var_list) > size:\n",
    "        obj.fit(X[var_list],Y)\n",
    "        var_imp = pd.DataFrame(list(zip(X[var_list], obj.feature_importances_)), columns = ['Var_name', 'Importance'])\\\n",
    "            .sort_values(['Importance'], ascending = [0])    \n",
    "        redu_feat = var_imp[var_imp['Importance']>min(var_imp['Importance'])]\n",
    "        i = i+1\n",
    "       # print (\"Iteration \"+ str(i) + \" : No. of original features are: \", len(X[var_list].columns))\n",
    "       # print (\"Iteration \"+ str(i) + \" : No. of reduced features are: \", len(redu_feat))\n",
    "        var_list = redu_feat['Var_name']\n",
    "    print (\"Iteration \"+ str(i) + \" : No. of reduced features are: \", len(redu_feat))\n",
    "    return redu_feat"
   ]
  },
  {
   "cell_type": "markdown",
   "metadata": {},
   "source": [
    "<a id='metrics'></a>"
   ]
  },
  {
   "cell_type": "code",
   "execution_count": 8,
   "metadata": {},
   "outputs": [],
   "source": [
    "def metrics(y_true, y_pred, y_proba):\n",
    "\n",
    "    fpr, tpr, _ = roc_curve(y_true, y_proba)\n",
    "    roc_auc = auc(fpr, tpr)\n",
    "    acu = accuracy_score(y_true, y_pred)\n",
    "    p = precision_score(y_true, y_pred)\n",
    "    r = recall_score(y_true, y_pred)\n",
    "    cm = confusion_matrix(y_true, y_pred)\n",
    "    set_printoptions(precision=2)\n",
    "        \n",
    "    return roc_auc, acu, p, r, cm"
   ]
  },
  {
   "cell_type": "markdown",
   "metadata": {},
   "source": [
    "<a id='roc_auc'></a>"
   ]
  },
  {
   "cell_type": "code",
   "execution_count": 9,
   "metadata": {},
   "outputs": [],
   "source": [
    "def roc_auc(X, Y, obj):\n",
    "\n",
    "    y_pred = obj.predict(X)\n",
    "    y_proba = obj.predict_proba(X)[:,1]\n",
    "    fpr, tpr, _ = roc_curve(Y, y_proba)\n",
    "    roc_auc = auc(fpr, tpr)\n",
    "    plt.subplot(1,2,1)\n",
    "    plt.title('ROC Curve')\n",
    "    plt.plot(fpr, tpr, label = 'AUC = %0.2f' % roc_auc)\n",
    "    plt.legend(loc = 'lower right')\n",
    "    plt.plot([0, 1], [0, 1],'r--')\n",
    "    plt.xlim([0, 1])\n",
    "    plt.ylim([0, 1])\n",
    "    plt.ylabel('True Positive Rate (Sensitivity)')\n",
    "    plt.xlabel('False Positive Rate (1 - Specificity)')\n",
    "    \n",
    "    return roc_auc"
   ]
  },
  {
   "cell_type": "markdown",
   "metadata": {},
   "source": [
    "<a id='ks_deciles'></a>"
   ]
  },
  {
   "cell_type": "code",
   "execution_count": 10,
   "metadata": {},
   "outputs": [],
   "source": [
    "def out_ks(df, Y, obj, targ):\n",
    "    \n",
    "    outp = pd.DataFrame(Y)\n",
    "    outp['Pred'] = obj.predict(df)\n",
    "    outp['Proba'] = obj.predict_proba(df)[:,1]\n",
    "    outp['Decile'] = pd.qcut(outp['Proba'], 10, labels = arange(10,0,-1))\n",
    "\n",
    "    fin_res = pd.DataFrame(arange(1,11),columns = ['Decile'])\n",
    "    fin_res['Count']=(outp.groupby(['Decile'],as_index=False).count())['Pred']\n",
    "    fin_res['Target']=(outp.loc[outp[targ] == 1].groupby(['Decile'],as_index=False).count())['Pred']\n",
    "    fin_res['Non_Target']=(outp.loc[outp[targ] == 0].groupby(['Decile'],as_index=False).count())['Pred']\n",
    "    fin_res['Prob_Target']=(outp.groupby(['Decile'],as_index=False).sum())['Proba']\n",
    "    fin_res['1_pct'] = (fin_res['Target']/sum(fin_res['Target']))*100\n",
    "    fin_res['0_pct'] = (fin_res['Non_Target']/sum(fin_res['Non_Target']))*100\n",
    "    fin_res['1_cum'], fin_res['0_cum'] = \" \", \" \"\n",
    "    r1 = 0\n",
    "    r0 = 0\n",
    "    for i in range(10):\n",
    "        r1 = r1 + fin_res['1_pct'][i]\n",
    "        r0 = r0 + fin_res['0_pct'][i]\n",
    "        fin_res['1_cum'][i] = r1\n",
    "        fin_res['0_cum'][i] = r0\n",
    "    fin_res['KS'] = abs(fin_res['1_cum'] - fin_res['0_cum'])\n",
    "    ks = max(fin_res['KS'])\n",
    "           \n",
    "    return (outp['Pred'], outp['Proba'], ks, fin_res)"
   ]
  },
  {
   "cell_type": "markdown",
   "metadata": {},
   "source": [
    "<a id='plots'></a>"
   ]
  },
  {
   "cell_type": "code",
   "execution_count": 11,
   "metadata": {},
   "outputs": [],
   "source": [
    "def plots(y_true, y_proba, color):\n",
    "    fpr, tpr, _ = roc_curve(y_true, y_proba)\n",
    "    roc_auc = auc(fpr, tpr)\n",
    "    plt.subplot(1,2,1)\n",
    "    plt.title('ROC Curve')\n",
    "    plt.plot(fpr, tpr, color = color, label = 'AUC = %0.2f' % roc_auc)\n",
    "    plt.legend(loc = 'lower right')\n",
    "    plt.plot([0, 1], [0, 1],'r--')\n",
    "    plt.xlim([0, 1])\n",
    "    plt.ylim([0, 1])\n",
    "    plt.ylabel('True Positive Rate (Sensitivity)')\n",
    "    plt.xlabel('False Positive Rate (1 - Specificity)')\n",
    "    \n",
    "    precision, recall, _ = precision_recall_curve(y_true, y_proba)\n",
    "    average_precision = average_precision_score(y_true, y_proba)\n",
    "    plt.subplot(1,2,2)\n",
    "    plt.tight_layout()\n",
    "    plt.title('Precision-Recall : AUC={0:0.2f}'.format(average_precision))\n",
    "    plt.plot(recall, precision, color = color)\n",
    "    plt.legend(loc = 'lower right')\n",
    "    plt.xlim([0, 1])\n",
    "    plt.ylim([0, 1])\n",
    "    plt.ylabel('Precision')\n",
    "    plt.xlabel('Recall (Sensitivity)')"
   ]
  },
  {
   "cell_type": "markdown",
   "metadata": {},
   "source": [
    "<a id='score_decile_segment'></a>"
   ]
  },
  {
   "cell_type": "code",
   "execution_count": 12,
   "metadata": {},
   "outputs": [],
   "source": [
    "def outs(d, fin_vars, obj):\n",
    "    d['pred'] = obj.predict(d[fin_vars])\n",
    "    d['score'] = obj.predict_proba(d[fin_vars])[:,1]\n",
    "    #d['nat_decile'] = pd.qcut(d['score'], 10, labels = arange(10,0,-1))\n",
    "    #d['div_decile'] = d.groupby('division')['score'].apply(lambda x: pd.qcut(x, 10, labels = arange(10,0,-1)))\n",
    "    d['nat_decile'] = d.groupby(['decile_segment_flag'])['score'].apply(lambda x: pd.qcut(x, 10, labels = arange(10,0,-1)))\n",
    "    d['div_decile'] = d.groupby(['decile_segment_flag','division'])['score'].apply(lambda x: pd.qcut(x, 10, labels = arange(10,0,-1)))\n",
    "    d['reg_decile'] = d.groupby(['decile_segment_flag','region'])['score'].apply(lambda x: pd.qcut(x, 10, labels = arange(10,0,-1)))\n",
    "    d.loc[(d['nat_decile'] == 1) | (d['nat_decile'] == 2) | (d['nat_decile'] == 3), 'segment'] = 'HIGH'\n",
    "    d.loc[(d['nat_decile'] == 4) | (d['nat_decile'] == 5) | (d['nat_decile'] == 6), 'segment'] = 'MID'\n",
    "    d.loc[(d['nat_decile'] == 7) | (d['nat_decile'] == 8) | (d['nat_decile'] == 9) | (d['nat_decile'] == 10), 'segment'] = 'LOW'\n",
    "    return d\n"
   ]
  },
  {
   "cell_type": "markdown",
   "metadata": {},
   "source": [
    "<a id='execution'></a>\n",
    "### Data pull"
   ]
  },
  {
   "cell_type": "code",
   "execution_count": 13,
   "metadata": {},
   "outputs": [],
   "source": [
    "warnings.filterwarnings(\"ignore\")\n",
    "data = pd.read_csv(r'/home/pbojja200/Digital/PML_P2/vid_tiers_dev_data_zip.txt', sep='|')\n",
    "oot = pd.read_csv(r'/home/pbojja200/Digital/PML_P2/vid_tiers_oot_data_zip.txt', sep='|')"
   ]
  },
  {
   "cell_type": "code",
   "execution_count": 14,
   "metadata": {},
   "outputs": [],
   "source": [
    "data.columns = [i[1] for i in data.columns.str.split('.')]\n",
    "oot.columns = [i[1] for i in oot.columns.str.split('.')]"
   ]
  },
  {
   "cell_type": "code",
   "execution_count": 15,
   "metadata": {},
   "outputs": [
    {
     "data": {
      "text/plain": [
       "(1530, 323)"
      ]
     },
     "execution_count": 15,
     "metadata": {},
     "output_type": "execute_result"
    }
   ],
   "source": [
    "act_vars = data.columns\n",
    "oot_1 = oot[act_vars]\n",
    "oot_1.shape"
   ]
  },
  {
   "cell_type": "code",
   "execution_count": 16,
   "metadata": {},
   "outputs": [
    {
     "name": "stdout",
     "output_type": "stream",
     "text": [
      "(4123, 323)\n"
     ]
    }
   ],
   "source": [
    "full_df = data.append(oot_1, ignore_index=True)\n",
    "print(full_df.shape)"
   ]
  },
  {
   "cell_type": "code",
   "execution_count": 17,
   "metadata": {},
   "outputs": [
    {
     "data": {
      "text/html": [
       "<div>\n",
       "<style>\n",
       "    .dataframe thead tr:only-child th {\n",
       "        text-align: right;\n",
       "    }\n",
       "\n",
       "    .dataframe thead th {\n",
       "        text-align: left;\n",
       "    }\n",
       "\n",
       "    .dataframe tbody tr th {\n",
       "        vertical-align: top;\n",
       "    }\n",
       "</style>\n",
       "<table border=\"1\" class=\"dataframe\">\n",
       "  <thead>\n",
       "    <tr style=\"text-align: right;\">\n",
       "      <th></th>\n",
       "      <th>s_sum_page_loadtime_last_5sess</th>\n",
       "      <th>s_cnt_localizn_adrs_valid_type_usps_last_10s</th>\n",
       "      <th>d_cnt_phone_visit_l30d</th>\n",
       "      <th>s_cnt_geo_region_ca_last_5sess</th>\n",
       "      <th>s_cnt_geo_loc_mid_west_last_7sess</th>\n",
       "      <th>s_cnt_domain_comcast_last_10sess</th>\n",
       "      <th>d_cnt_comcast_region_mou_last_15days</th>\n",
       "      <th>d_cnt_comcast_region_big_last_3days</th>\n",
       "      <th>d_cnt_comcast_region_hea_last_15days</th>\n",
       "      <th>s_dealsofferspage_flag_y_last_3sess</th>\n",
       "      <th>...</th>\n",
       "      <th>s_cnt_comcast_region_mou_last_10sess</th>\n",
       "      <th>day_id</th>\n",
       "      <th>s_sum_attempt_localisation_l3d</th>\n",
       "      <th>s_geo_dma_602_last_5sess</th>\n",
       "      <th>s_cnt_prev_page_2173979979_last_5sess</th>\n",
       "      <th>s_cnt_page_thru_triple_play_last_3sess</th>\n",
       "      <th>s_cnt_geo_loc_co_last_5sess</th>\n",
       "      <th>s_sub_section_name_my_plan_last_7sess</th>\n",
       "      <th>d_cnt_phone_visit_l3d</th>\n",
       "      <th>division</th>\n",
       "    </tr>\n",
       "  </thead>\n",
       "  <tbody>\n",
       "    <tr>\n",
       "      <th>4118</th>\n",
       "      <td>29.0</td>\n",
       "      <td>1.0</td>\n",
       "      <td>1.0</td>\n",
       "      <td>0.0</td>\n",
       "      <td>0.0</td>\n",
       "      <td>2.0</td>\n",
       "      <td>0.0</td>\n",
       "      <td>0.0</td>\n",
       "      <td>0.0</td>\n",
       "      <td>1.0</td>\n",
       "      <td>...</td>\n",
       "      <td>0.0</td>\n",
       "      <td>2019-02-03</td>\n",
       "      <td>1.0</td>\n",
       "      <td>0.0</td>\n",
       "      <td>0.0</td>\n",
       "      <td>0.0</td>\n",
       "      <td>0.0</td>\n",
       "      <td>0.0</td>\n",
       "      <td>1.0</td>\n",
       "      <td>WEST DIVISION</td>\n",
       "    </tr>\n",
       "    <tr>\n",
       "      <th>4119</th>\n",
       "      <td>19.0</td>\n",
       "      <td>0.0</td>\n",
       "      <td>2.0</td>\n",
       "      <td>0.0</td>\n",
       "      <td>0.0</td>\n",
       "      <td>0.0</td>\n",
       "      <td>0.0</td>\n",
       "      <td>0.0</td>\n",
       "      <td>0.0</td>\n",
       "      <td>1.0</td>\n",
       "      <td>...</td>\n",
       "      <td>0.0</td>\n",
       "      <td>2019-02-04</td>\n",
       "      <td>0.0</td>\n",
       "      <td>0.0</td>\n",
       "      <td>1.0</td>\n",
       "      <td>NaN</td>\n",
       "      <td>0.0</td>\n",
       "      <td>0.0</td>\n",
       "      <td>1.0</td>\n",
       "      <td>WEST DIVISION</td>\n",
       "    </tr>\n",
       "    <tr>\n",
       "      <th>4120</th>\n",
       "      <td>0.0</td>\n",
       "      <td>0.0</td>\n",
       "      <td>2.0</td>\n",
       "      <td>0.0</td>\n",
       "      <td>0.0</td>\n",
       "      <td>0.0</td>\n",
       "      <td>0.0</td>\n",
       "      <td>0.0</td>\n",
       "      <td>0.0</td>\n",
       "      <td>1.0</td>\n",
       "      <td>...</td>\n",
       "      <td>0.0</td>\n",
       "      <td>2019-02-04</td>\n",
       "      <td>0.0</td>\n",
       "      <td>0.0</td>\n",
       "      <td>1.0</td>\n",
       "      <td>NaN</td>\n",
       "      <td>0.0</td>\n",
       "      <td>0.0</td>\n",
       "      <td>2.0</td>\n",
       "      <td>NaN</td>\n",
       "    </tr>\n",
       "    <tr>\n",
       "      <th>4121</th>\n",
       "      <td>163.0</td>\n",
       "      <td>1.0</td>\n",
       "      <td>0.0</td>\n",
       "      <td>0.0</td>\n",
       "      <td>0.0</td>\n",
       "      <td>0.0</td>\n",
       "      <td>0.0</td>\n",
       "      <td>0.0</td>\n",
       "      <td>0.0</td>\n",
       "      <td>2.0</td>\n",
       "      <td>...</td>\n",
       "      <td>0.0</td>\n",
       "      <td>2019-02-01</td>\n",
       "      <td>1.0</td>\n",
       "      <td>0.0</td>\n",
       "      <td>0.0</td>\n",
       "      <td>0.0</td>\n",
       "      <td>0.0</td>\n",
       "      <td>0.0</td>\n",
       "      <td>0.0</td>\n",
       "      <td>WEST DIVISION</td>\n",
       "    </tr>\n",
       "    <tr>\n",
       "      <th>4122</th>\n",
       "      <td>34.0</td>\n",
       "      <td>1.0</td>\n",
       "      <td>0.0</td>\n",
       "      <td>0.0</td>\n",
       "      <td>0.0</td>\n",
       "      <td>0.0</td>\n",
       "      <td>0.0</td>\n",
       "      <td>0.0</td>\n",
       "      <td>0.0</td>\n",
       "      <td>1.0</td>\n",
       "      <td>...</td>\n",
       "      <td>0.0</td>\n",
       "      <td>2019-02-02</td>\n",
       "      <td>0.0</td>\n",
       "      <td>0.0</td>\n",
       "      <td>0.0</td>\n",
       "      <td>0.0</td>\n",
       "      <td>0.0</td>\n",
       "      <td>0.0</td>\n",
       "      <td>0.0</td>\n",
       "      <td>NaN</td>\n",
       "    </tr>\n",
       "  </tbody>\n",
       "</table>\n",
       "<p>5 rows × 323 columns</p>\n",
       "</div>"
      ],
      "text/plain": [
       "      s_sum_page_loadtime_last_5sess  \\\n",
       "4118                            29.0   \n",
       "4119                            19.0   \n",
       "4120                             0.0   \n",
       "4121                           163.0   \n",
       "4122                            34.0   \n",
       "\n",
       "      s_cnt_localizn_adrs_valid_type_usps_last_10s  d_cnt_phone_visit_l30d  \\\n",
       "4118                                           1.0                     1.0   \n",
       "4119                                           0.0                     2.0   \n",
       "4120                                           0.0                     2.0   \n",
       "4121                                           1.0                     0.0   \n",
       "4122                                           1.0                     0.0   \n",
       "\n",
       "      s_cnt_geo_region_ca_last_5sess  s_cnt_geo_loc_mid_west_last_7sess  \\\n",
       "4118                             0.0                                0.0   \n",
       "4119                             0.0                                0.0   \n",
       "4120                             0.0                                0.0   \n",
       "4121                             0.0                                0.0   \n",
       "4122                             0.0                                0.0   \n",
       "\n",
       "      s_cnt_domain_comcast_last_10sess  d_cnt_comcast_region_mou_last_15days  \\\n",
       "4118                               2.0                                   0.0   \n",
       "4119                               0.0                                   0.0   \n",
       "4120                               0.0                                   0.0   \n",
       "4121                               0.0                                   0.0   \n",
       "4122                               0.0                                   0.0   \n",
       "\n",
       "      d_cnt_comcast_region_big_last_3days  \\\n",
       "4118                                  0.0   \n",
       "4119                                  0.0   \n",
       "4120                                  0.0   \n",
       "4121                                  0.0   \n",
       "4122                                  0.0   \n",
       "\n",
       "      d_cnt_comcast_region_hea_last_15days  \\\n",
       "4118                                   0.0   \n",
       "4119                                   0.0   \n",
       "4120                                   0.0   \n",
       "4121                                   0.0   \n",
       "4122                                   0.0   \n",
       "\n",
       "      s_dealsofferspage_flag_y_last_3sess      ...        \\\n",
       "4118                                  1.0      ...         \n",
       "4119                                  1.0      ...         \n",
       "4120                                  1.0      ...         \n",
       "4121                                  2.0      ...         \n",
       "4122                                  1.0      ...         \n",
       "\n",
       "      s_cnt_comcast_region_mou_last_10sess      day_id  \\\n",
       "4118                                   0.0  2019-02-03   \n",
       "4119                                   0.0  2019-02-04   \n",
       "4120                                   0.0  2019-02-04   \n",
       "4121                                   0.0  2019-02-01   \n",
       "4122                                   0.0  2019-02-02   \n",
       "\n",
       "      s_sum_attempt_localisation_l3d  s_geo_dma_602_last_5sess  \\\n",
       "4118                             1.0                       0.0   \n",
       "4119                             0.0                       0.0   \n",
       "4120                             0.0                       0.0   \n",
       "4121                             1.0                       0.0   \n",
       "4122                             0.0                       0.0   \n",
       "\n",
       "      s_cnt_prev_page_2173979979_last_5sess  \\\n",
       "4118                                    0.0   \n",
       "4119                                    1.0   \n",
       "4120                                    1.0   \n",
       "4121                                    0.0   \n",
       "4122                                    0.0   \n",
       "\n",
       "      s_cnt_page_thru_triple_play_last_3sess  s_cnt_geo_loc_co_last_5sess  \\\n",
       "4118                                     0.0                          0.0   \n",
       "4119                                     NaN                          0.0   \n",
       "4120                                     NaN                          0.0   \n",
       "4121                                     0.0                          0.0   \n",
       "4122                                     0.0                          0.0   \n",
       "\n",
       "      s_sub_section_name_my_plan_last_7sess  d_cnt_phone_visit_l3d  \\\n",
       "4118                                    0.0                    1.0   \n",
       "4119                                    0.0                    1.0   \n",
       "4120                                    0.0                    2.0   \n",
       "4121                                    0.0                    0.0   \n",
       "4122                                    0.0                    0.0   \n",
       "\n",
       "           division  \n",
       "4118  WEST DIVISION  \n",
       "4119  WEST DIVISION  \n",
       "4120            NaN  \n",
       "4121  WEST DIVISION  \n",
       "4122            NaN  \n",
       "\n",
       "[5 rows x 323 columns]"
      ]
     },
     "execution_count": 17,
     "metadata": {},
     "output_type": "execute_result"
    }
   ],
   "source": [
    "full_df.tail()"
   ]
  },
  {
   "cell_type": "code",
   "execution_count": 18,
   "metadata": {},
   "outputs": [],
   "source": [
    "target = 'vid_tiers_target'\n",
    "#data[target] = data[target].astype('int')"
   ]
  },
  {
   "cell_type": "code",
   "execution_count": 19,
   "metadata": {},
   "outputs": [
    {
     "data": {
      "text/plain": [
       "0    2142\n",
       "1    1981\n",
       "Name: vid_tiers_target, dtype: int64"
      ]
     },
     "execution_count": 19,
     "metadata": {},
     "output_type": "execute_result"
    }
   ],
   "source": [
    "full_df[target].value_counts()"
   ]
  },
  {
   "cell_type": "code",
   "execution_count": 20,
   "metadata": {},
   "outputs": [],
   "source": [
    "#df.astype(float)\n",
    "df = full_df.copy()\n",
    "for x in df.columns:\n",
    "    try:\n",
    "        df[x] = df[x].astype(float)\n",
    "    except:\n",
    "        continue"
   ]
  },
  {
   "cell_type": "code",
   "execution_count": 21,
   "metadata": {},
   "outputs": [
    {
     "name": "stdout",
     "output_type": "stream",
     "text": [
      "323\n",
      "322\n",
      "(3298, 322)\n",
      "(825, 322)\n"
     ]
    },
    {
     "data": {
      "text/plain": [
       "((3298, 323), (825, 323))"
      ]
     },
     "execution_count": 21,
     "metadata": {},
     "output_type": "execute_result"
    }
   ],
   "source": [
    "#df = data.copy()\n",
    "x_vars = list(df.columns)\n",
    "print(len(x_vars))\n",
    "x_vars.remove(target)\n",
    "print(len(x_vars))\n",
    "\n",
    "X_dev, X_val, Y_dev, Y_val = train_test_split(df[x_vars], df[target], test_size=0.20, \n",
    "                                                    random_state=78)\n",
    "\n",
    "print (X_dev.shape)\n",
    "print (X_val.shape)\n",
    "\n",
    "dev = pd.concat([X_dev, Y_dev], axis = 1)\n",
    "val = pd.concat([X_val, Y_val], axis = 1)\n",
    "dev.shape, val.shape"
   ]
  },
  {
   "cell_type": "code",
   "execution_count": 22,
   "metadata": {},
   "outputs": [
    {
     "name": "stdout",
     "output_type": "stream",
     "text": [
      "Original dev :  1    0.538758\n",
      "0    0.461242\n",
      "Name: vid_tiers_target, dtype: float64\n",
      "OOT :  0    0.618301\n",
      "1    0.381699\n",
      "Name: vid_tiers_target, dtype: float64\n",
      "Full data :  0    0.519525\n",
      "1    0.480475\n",
      "Name: vid_tiers_target, dtype: float64\n",
      "dev :  0.0    0.522135\n",
      "1.0    0.477865\n",
      "Name: vid_tiers_target, dtype: float64\n",
      "val :  0.0    0.509091\n",
      "1.0    0.490909\n",
      "Name: vid_tiers_target, dtype: float64\n"
     ]
    }
   ],
   "source": [
    "print(\"Original dev : \", data[target].value_counts()/data.shape[0])\n",
    "print(\"OOT : \", oot[target].value_counts()/oot.shape[0])\n",
    "print(\"Full data : \", full_df[target].value_counts()/full_df.shape[0])\n",
    "print(\"dev : \", dev[target].value_counts()/dev.shape[0]) \n",
    "print(\"val : \", val[target].value_counts()/val.shape[0])"
   ]
  },
  {
   "cell_type": "code",
   "execution_count": 23,
   "metadata": {},
   "outputs": [],
   "source": [
    "num = dev.select_dtypes(include=['float64','int64']).columns\n",
    "cat = dev.select_dtypes(include=['O']).columns"
   ]
  },
  {
   "cell_type": "code",
   "execution_count": 24,
   "metadata": {},
   "outputs": [
    {
     "data": {
      "text/plain": [
       "Index(['product_category', 'product_tiers', 'geo_zip', 'geo_region',\n",
       "       'geo_city', 'day_id', 'division'],\n",
       "      dtype='object')"
      ]
     },
     "execution_count": 24,
     "metadata": {},
     "output_type": "execute_result"
    }
   ],
   "source": [
    "cat"
   ]
  },
  {
   "cell_type": "code",
   "execution_count": 25,
   "metadata": {
    "scrolled": false
   },
   "outputs": [
    {
     "data": {
      "text/html": [
       "<div>\n",
       "<style>\n",
       "    .dataframe thead tr:only-child th {\n",
       "        text-align: right;\n",
       "    }\n",
       "\n",
       "    .dataframe thead th {\n",
       "        text-align: left;\n",
       "    }\n",
       "\n",
       "    .dataframe tbody tr th {\n",
       "        vertical-align: top;\n",
       "    }\n",
       "</style>\n",
       "<table border=\"1\" class=\"dataframe\">\n",
       "  <thead>\n",
       "    <tr style=\"text-align: right;\">\n",
       "      <th></th>\n",
       "      <th>count</th>\n",
       "      <th>mean</th>\n",
       "      <th>std</th>\n",
       "      <th>min</th>\n",
       "      <th>25%</th>\n",
       "      <th>50%</th>\n",
       "      <th>75%</th>\n",
       "      <th>max</th>\n",
       "      <th>max_min</th>\n",
       "      <th>missing</th>\n",
       "    </tr>\n",
       "  </thead>\n",
       "  <tbody>\n",
       "    <tr>\n",
       "      <th>timespent_seconds_afternoon_l7d</th>\n",
       "      <td>1405.0</td>\n",
       "      <td>1867.886833</td>\n",
       "      <td>2787.470308</td>\n",
       "      <td>0.0</td>\n",
       "      <td>351.00</td>\n",
       "      <td>1072.0</td>\n",
       "      <td>2276.00</td>\n",
       "      <td>31288.0</td>\n",
       "      <td>31288.0</td>\n",
       "      <td>57.398423</td>\n",
       "    </tr>\n",
       "    <tr>\n",
       "      <th>num_of_pages_afternoon</th>\n",
       "      <td>1405.0</td>\n",
       "      <td>121.479715</td>\n",
       "      <td>162.107349</td>\n",
       "      <td>1.0</td>\n",
       "      <td>31.00</td>\n",
       "      <td>86.0</td>\n",
       "      <td>152.00</td>\n",
       "      <td>2465.0</td>\n",
       "      <td>2464.0</td>\n",
       "      <td>57.398423</td>\n",
       "    </tr>\n",
       "    <tr>\n",
       "      <th>num_of_pages_early_morning_l7d</th>\n",
       "      <td>622.0</td>\n",
       "      <td>91.615756</td>\n",
       "      <td>86.826397</td>\n",
       "      <td>1.0</td>\n",
       "      <td>22.00</td>\n",
       "      <td>77.0</td>\n",
       "      <td>128.00</td>\n",
       "      <td>571.0</td>\n",
       "      <td>570.0</td>\n",
       "      <td>81.140085</td>\n",
       "    </tr>\n",
       "    <tr>\n",
       "      <th>timespent_seconds_early_morning</th>\n",
       "      <td>622.0</td>\n",
       "      <td>1338.565916</td>\n",
       "      <td>1500.558079</td>\n",
       "      <td>0.0</td>\n",
       "      <td>290.50</td>\n",
       "      <td>917.5</td>\n",
       "      <td>1872.00</td>\n",
       "      <td>11326.0</td>\n",
       "      <td>11326.0</td>\n",
       "      <td>81.140085</td>\n",
       "    </tr>\n",
       "    <tr>\n",
       "      <th>num_of_pages_daytime_l7d</th>\n",
       "      <td>1456.0</td>\n",
       "      <td>126.116071</td>\n",
       "      <td>133.672831</td>\n",
       "      <td>1.0</td>\n",
       "      <td>39.75</td>\n",
       "      <td>93.0</td>\n",
       "      <td>167.00</td>\n",
       "      <td>1259.0</td>\n",
       "      <td>1258.0</td>\n",
       "      <td>55.852032</td>\n",
       "    </tr>\n",
       "    <tr>\n",
       "      <th>num_of_pages_afternoon_l7d</th>\n",
       "      <td>1405.0</td>\n",
       "      <td>121.479715</td>\n",
       "      <td>162.107349</td>\n",
       "      <td>1.0</td>\n",
       "      <td>31.00</td>\n",
       "      <td>86.0</td>\n",
       "      <td>152.00</td>\n",
       "      <td>2465.0</td>\n",
       "      <td>2464.0</td>\n",
       "      <td>57.398423</td>\n",
       "    </tr>\n",
       "    <tr>\n",
       "      <th>timespent_seconds_primetime_l7d</th>\n",
       "      <td>976.0</td>\n",
       "      <td>1440.064549</td>\n",
       "      <td>1808.770960</td>\n",
       "      <td>0.0</td>\n",
       "      <td>191.50</td>\n",
       "      <td>876.5</td>\n",
       "      <td>2006.00</td>\n",
       "      <td>16660.0</td>\n",
       "      <td>16660.0</td>\n",
       "      <td>70.406307</td>\n",
       "    </tr>\n",
       "    <tr>\n",
       "      <th>timespent_seconds_early_fringe_l15d</th>\n",
       "      <td>994.0</td>\n",
       "      <td>1582.167002</td>\n",
       "      <td>2162.917930</td>\n",
       "      <td>0.0</td>\n",
       "      <td>244.00</td>\n",
       "      <td>933.0</td>\n",
       "      <td>2072.00</td>\n",
       "      <td>21525.0</td>\n",
       "      <td>21525.0</td>\n",
       "      <td>69.860522</td>\n",
       "    </tr>\n",
       "    <tr>\n",
       "      <th>num_of_pages_morning_l7d</th>\n",
       "      <td>1186.0</td>\n",
       "      <td>117.267285</td>\n",
       "      <td>113.617250</td>\n",
       "      <td>1.0</td>\n",
       "      <td>44.00</td>\n",
       "      <td>91.0</td>\n",
       "      <td>155.75</td>\n",
       "      <td>1009.0</td>\n",
       "      <td>1008.0</td>\n",
       "      <td>64.038811</td>\n",
       "    </tr>\n",
       "    <tr>\n",
       "      <th>timespent_seconds_primetime</th>\n",
       "      <td>976.0</td>\n",
       "      <td>1440.064549</td>\n",
       "      <td>1808.770960</td>\n",
       "      <td>0.0</td>\n",
       "      <td>191.50</td>\n",
       "      <td>876.5</td>\n",
       "      <td>2006.00</td>\n",
       "      <td>16660.0</td>\n",
       "      <td>16660.0</td>\n",
       "      <td>70.406307</td>\n",
       "    </tr>\n",
       "    <tr>\n",
       "      <th>num_of_pages_early_fringe</th>\n",
       "      <td>994.0</td>\n",
       "      <td>99.261569</td>\n",
       "      <td>119.212767</td>\n",
       "      <td>1.0</td>\n",
       "      <td>13.00</td>\n",
       "      <td>73.0</td>\n",
       "      <td>132.00</td>\n",
       "      <td>1094.0</td>\n",
       "      <td>1093.0</td>\n",
       "      <td>69.860522</td>\n",
       "    </tr>\n",
       "    <tr>\n",
       "      <th>num_of_pages_afternoon_l15d</th>\n",
       "      <td>1405.0</td>\n",
       "      <td>121.479715</td>\n",
       "      <td>162.107349</td>\n",
       "      <td>1.0</td>\n",
       "      <td>31.00</td>\n",
       "      <td>86.0</td>\n",
       "      <td>152.00</td>\n",
       "      <td>2465.0</td>\n",
       "      <td>2464.0</td>\n",
       "      <td>57.398423</td>\n",
       "    </tr>\n",
       "  </tbody>\n",
       "</table>\n",
       "</div>"
      ],
      "text/plain": [
       "                                      count         mean          std  min  \\\n",
       "timespent_seconds_afternoon_l7d      1405.0  1867.886833  2787.470308  0.0   \n",
       "num_of_pages_afternoon               1405.0   121.479715   162.107349  1.0   \n",
       "num_of_pages_early_morning_l7d        622.0    91.615756    86.826397  1.0   \n",
       "timespent_seconds_early_morning       622.0  1338.565916  1500.558079  0.0   \n",
       "num_of_pages_daytime_l7d             1456.0   126.116071   133.672831  1.0   \n",
       "num_of_pages_afternoon_l7d           1405.0   121.479715   162.107349  1.0   \n",
       "timespent_seconds_primetime_l7d       976.0  1440.064549  1808.770960  0.0   \n",
       "timespent_seconds_early_fringe_l15d   994.0  1582.167002  2162.917930  0.0   \n",
       "num_of_pages_morning_l7d             1186.0   117.267285   113.617250  1.0   \n",
       "timespent_seconds_primetime           976.0  1440.064549  1808.770960  0.0   \n",
       "num_of_pages_early_fringe             994.0    99.261569   119.212767  1.0   \n",
       "num_of_pages_afternoon_l15d          1405.0   121.479715   162.107349  1.0   \n",
       "\n",
       "                                        25%     50%      75%      max  \\\n",
       "timespent_seconds_afternoon_l7d      351.00  1072.0  2276.00  31288.0   \n",
       "num_of_pages_afternoon                31.00    86.0   152.00   2465.0   \n",
       "num_of_pages_early_morning_l7d        22.00    77.0   128.00    571.0   \n",
       "timespent_seconds_early_morning      290.50   917.5  1872.00  11326.0   \n",
       "num_of_pages_daytime_l7d              39.75    93.0   167.00   1259.0   \n",
       "num_of_pages_afternoon_l7d            31.00    86.0   152.00   2465.0   \n",
       "timespent_seconds_primetime_l7d      191.50   876.5  2006.00  16660.0   \n",
       "timespent_seconds_early_fringe_l15d  244.00   933.0  2072.00  21525.0   \n",
       "num_of_pages_morning_l7d              44.00    91.0   155.75   1009.0   \n",
       "timespent_seconds_primetime          191.50   876.5  2006.00  16660.0   \n",
       "num_of_pages_early_fringe             13.00    73.0   132.00   1094.0   \n",
       "num_of_pages_afternoon_l15d           31.00    86.0   152.00   2465.0   \n",
       "\n",
       "                                     max_min    missing  \n",
       "timespent_seconds_afternoon_l7d      31288.0  57.398423  \n",
       "num_of_pages_afternoon                2464.0  57.398423  \n",
       "num_of_pages_early_morning_l7d         570.0  81.140085  \n",
       "timespent_seconds_early_morning      11326.0  81.140085  \n",
       "num_of_pages_daytime_l7d              1258.0  55.852032  \n",
       "num_of_pages_afternoon_l7d            2464.0  57.398423  \n",
       "timespent_seconds_primetime_l7d      16660.0  70.406307  \n",
       "timespent_seconds_early_fringe_l15d  21525.0  69.860522  \n",
       "num_of_pages_morning_l7d              1008.0  64.038811  \n",
       "timespent_seconds_primetime          16660.0  70.406307  \n",
       "num_of_pages_early_fringe             1093.0  69.860522  \n",
       "num_of_pages_afternoon_l15d           2464.0  57.398423  "
      ]
     },
     "execution_count": 25,
     "metadata": {},
     "output_type": "execute_result"
    }
   ],
   "source": [
    "# works for numerical columns only\n",
    "s_num = pd.DataFrame(dev[num].describe())\n",
    "s_num.ix['max_min'] = s_num.ix['max'] - s_num.ix['min']\n",
    "s_num.ix['missing'] = ((len(dev[num]) - s_num.ix['count'])/len(dev[num]))*100\n",
    "st = s_num.transpose()\n",
    "st[st['missing']>50]"
   ]
  },
  {
   "cell_type": "code",
   "execution_count": 26,
   "metadata": {},
   "outputs": [],
   "source": [
    "#num_rmv = list(st[st['missing']>85].index)"
   ]
  },
  {
   "cell_type": "code",
   "execution_count": 27,
   "metadata": {},
   "outputs": [
    {
     "data": {
      "text/html": [
       "<div>\n",
       "<style>\n",
       "    .dataframe thead tr:only-child th {\n",
       "        text-align: right;\n",
       "    }\n",
       "\n",
       "    .dataframe thead th {\n",
       "        text-align: left;\n",
       "    }\n",
       "\n",
       "    .dataframe tbody tr th {\n",
       "        vertical-align: top;\n",
       "    }\n",
       "</style>\n",
       "<table border=\"1\" class=\"dataframe\">\n",
       "  <thead>\n",
       "    <tr style=\"text-align: right;\">\n",
       "      <th></th>\n",
       "      <th>missing</th>\n",
       "    </tr>\n",
       "  </thead>\n",
       "  <tbody>\n",
       "  </tbody>\n",
       "</table>\n",
       "</div>"
      ],
      "text/plain": [
       "Empty DataFrame\n",
       "Columns: [missing]\n",
       "Index: []"
      ]
     },
     "execution_count": 27,
     "metadata": {},
     "output_type": "execute_result"
    }
   ],
   "source": [
    "s_cat = pd.DataFrame(df[cat].isnull().sum()/len(df[cat])*100, columns = ['missing'])\n",
    "s_cat = s_cat.sort_values(by='missing', ascending=False)\n",
    "s_cat[s_cat['missing']>50]"
   ]
  },
  {
   "cell_type": "code",
   "execution_count": 28,
   "metadata": {},
   "outputs": [
    {
     "name": "stdout",
     "output_type": "stream",
     "text": [
      "Dropped variables : 155\n"
     ]
    }
   ],
   "source": [
    "# remove redundant variables\n",
    "geo_drop = [x for x in df.columns if (\"comcast_division\" in x)]\n",
    "geo_drop = geo_drop + [x for x in df.columns if (\"comcast_region\" in x)]\n",
    "geo_drop = geo_drop + [x for x in df.columns if (\"geo_loc\" in x)]\n",
    "geo_drop = geo_drop + [x for x in df.columns if (\"geo_region\" in x)]\n",
    "geo_drop = geo_drop + [x for x in df.columns if (\"geo_city\" in x)]\n",
    "geo_drop = geo_drop + [x for x in df.columns if (\"geo_dma\" in x)]\n",
    "var_drop_list = geo_drop + ['decile_segment_flag','housekey','visid_hl','day_id','product_category','product_tiers',\n",
    "                 'geo_region','geo_zip',target, 'hsd_tiers_target','division']\n",
    "#var_drop_list = var_drop_list+[x for x in num_rmv]\n",
    "\n",
    "print (\"Dropped variables :\", len(var_drop_list))"
   ]
  },
  {
   "cell_type": "code",
   "execution_count": 29,
   "metadata": {},
   "outputs": [
    {
     "name": "stdout",
     "output_type": "stream",
     "text": [
      "Numerical dataframe : (3298, 173)\n",
      "Categorical dataframe : (3298, 1)\n"
     ]
    }
   ],
   "source": [
    "cat_var = [x for x in list(cat) if x in var_drop_list]\n",
    "num_var = [x for x in list(num) if x in var_drop_list]\n",
    "\n",
    "num_var = num.drop(num_var)\n",
    "cat_var = cat.drop(cat_var)\n",
    "\n",
    "#df[target] = df[target].astype(int)\n",
    "num_dev = pd.concat([dev[num_var], pd.DataFrame(dev[target])], axis=1)\n",
    "cat_dev = pd.concat([dev[cat_var], pd.DataFrame(dev[target])], axis=1)\n",
    "\n",
    "print (\"Numerical dataframe :\", num_dev.shape)\n",
    "print (\"Categorical dataframe :\",cat_dev.shape)"
   ]
  },
  {
   "cell_type": "code",
   "execution_count": 30,
   "metadata": {},
   "outputs": [
    {
     "data": {
      "text/plain": [
       "(Index(['vid_tiers_target'], dtype='object'),\n",
       " Index(['s_sum_page_loadtime_last_5sess',\n",
       "        's_cnt_localizn_adrs_valid_type_usps_last_10s',\n",
       "        'd_cnt_phone_visit_l30d', 's_cnt_domain_comcast_last_10sess',\n",
       "        's_dealsofferspage_flag_y_last_3sess',\n",
       "        's_authentication_active_authenticated_last_7sess',\n",
       "        's_auth_sts_actauthen_unrec_last_7sess',\n",
       "        's_os_cnt_1240087047_last_5sess',\n",
       "        's_cnt_click_context_offers_last_3sess',\n",
       "        's_cnt_resol_len_1024_last_7sess',\n",
       "        ...\n",
       "        's_cnt_prev_page_0_last_5sess', 's_cnt_prev_page_0_last_7sess',\n",
       "        's_cnt_click_action_submit_last_10sess',\n",
       "        's_cnt_user_server_ebzweb_ch2_last_3sess',\n",
       "        's_sum_attempt_localisation_l3d',\n",
       "        's_cnt_prev_page_2173979979_last_5sess',\n",
       "        's_cnt_page_thru_triple_play_last_3sess',\n",
       "        's_sub_section_name_my_plan_last_7sess', 'd_cnt_phone_visit_l3d',\n",
       "        'vid_tiers_target'],\n",
       "       dtype='object', length=173))"
      ]
     },
     "execution_count": 30,
     "metadata": {},
     "output_type": "execute_result"
    }
   ],
   "source": [
    "cat_dev.columns, num_dev.columns"
   ]
  },
  {
   "cell_type": "markdown",
   "metadata": {},
   "source": [
    "## Numerical Imputation"
   ]
  },
  {
   "cell_type": "code",
   "execution_count": 31,
   "metadata": {},
   "outputs": [],
   "source": [
    "#num_df = pd.DataFrame(KNN(k=3, verbose = False).complete(num_dev), columns = num_dev.columns)\n",
    "num_df = num_dev.fillna(999999)"
   ]
  },
  {
   "cell_type": "code",
   "execution_count": 32,
   "metadata": {},
   "outputs": [
    {
     "data": {
      "text/html": [
       "<div>\n",
       "<style>\n",
       "    .dataframe thead tr:only-child th {\n",
       "        text-align: right;\n",
       "    }\n",
       "\n",
       "    .dataframe thead th {\n",
       "        text-align: left;\n",
       "    }\n",
       "\n",
       "    .dataframe tbody tr th {\n",
       "        vertical-align: top;\n",
       "    }\n",
       "</style>\n",
       "<table border=\"1\" class=\"dataframe\">\n",
       "  <thead>\n",
       "    <tr style=\"text-align: right;\">\n",
       "      <th></th>\n",
       "      <th>count</th>\n",
       "      <th>mean</th>\n",
       "      <th>std</th>\n",
       "      <th>min</th>\n",
       "      <th>25%</th>\n",
       "      <th>50%</th>\n",
       "      <th>75%</th>\n",
       "      <th>max</th>\n",
       "      <th>max_min</th>\n",
       "      <th>missing</th>\n",
       "    </tr>\n",
       "  </thead>\n",
       "  <tbody>\n",
       "  </tbody>\n",
       "</table>\n",
       "</div>"
      ],
      "text/plain": [
       "Empty DataFrame\n",
       "Columns: [count, mean, std, min, 25%, 50%, 75%, max, max_min, missing]\n",
       "Index: []"
      ]
     },
     "execution_count": 32,
     "metadata": {},
     "output_type": "execute_result"
    }
   ],
   "source": [
    "#num_df = num_dev.copy()\n",
    "s_num1 = pd.DataFrame(num_df.describe())\n",
    "s_num1.ix['max_min'] = s_num1.ix['max'] - s_num1.ix['min']\n",
    "s_num1.ix['missing'] = ((len(num_df) - s_num1.ix['count'])/len(num_df))*100\n",
    "st_num1 = s_num1.transpose()\n",
    "st_num1[st_num1['missing']>0]"
   ]
  },
  {
   "cell_type": "markdown",
   "metadata": {},
   "source": [
    "## Categorical Imputation"
   ]
  },
  {
   "cell_type": "code",
   "execution_count": 33,
   "metadata": {},
   "outputs": [
    {
     "data": {
      "text/html": [
       "<div>\n",
       "<style>\n",
       "    .dataframe thead tr:only-child th {\n",
       "        text-align: right;\n",
       "    }\n",
       "\n",
       "    .dataframe thead th {\n",
       "        text-align: left;\n",
       "    }\n",
       "\n",
       "    .dataframe tbody tr th {\n",
       "        vertical-align: top;\n",
       "    }\n",
       "</style>\n",
       "<table border=\"1\" class=\"dataframe\">\n",
       "  <thead>\n",
       "    <tr style=\"text-align: right;\">\n",
       "      <th></th>\n",
       "      <th>missing</th>\n",
       "    </tr>\n",
       "  </thead>\n",
       "  <tbody>\n",
       "  </tbody>\n",
       "</table>\n",
       "</div>"
      ],
      "text/plain": [
       "Empty DataFrame\n",
       "Columns: [missing]\n",
       "Index: []"
      ]
     },
     "execution_count": 33,
     "metadata": {},
     "output_type": "execute_result"
    }
   ],
   "source": [
    "cat_df = cat_dev.fillna('NA')\n",
    "s_catt = pd.DataFrame(cat_df.isnull().sum()/len(cat_df)*100, columns = ['missing'])\n",
    "s_catt[s_catt['missing']>0]"
   ]
  },
  {
   "cell_type": "code",
   "execution_count": 34,
   "metadata": {},
   "outputs": [
    {
     "name": "stdout",
     "output_type": "stream",
     "text": [
      "# white space cols : 0\n",
      "[]\n"
     ]
    },
    {
     "data": {
      "text/plain": [
       "[]"
      ]
     },
     "execution_count": 34,
     "metadata": {},
     "output_type": "execute_result"
    }
   ],
   "source": [
    "ws = []\n",
    "[ws.append(x) for x in cat_df[cat_var].columns if (cat_df[x].str.isspace().sum())>0]\n",
    "print(\"# white space cols :\",len(ws))\n",
    "print(ws)\n",
    "[cat_df[x].replace(' ','NA',inplace = True) for x in ws]"
   ]
  },
  {
   "cell_type": "markdown",
   "metadata": {},
   "source": [
    "## Data Preparation"
   ]
  },
  {
   "cell_type": "markdown",
   "metadata": {},
   "source": [
    "[All links](#links)"
   ]
  },
  {
   "cell_type": "code",
   "execution_count": 35,
   "metadata": {},
   "outputs": [],
   "source": [
    "############## step data preparation ##############\n",
    "# weight of evidence\n",
    "#woe_data, iv, woe_map = woe_iv(cat_df, cat_var, target)\n",
    "#result, final_catg = cor_cat_var(cat_df, woe_data, cat_var)\n",
    "# label encoding\n",
    "#enc_res, enc_map = encoder(cat_df, cat_var)\n",
    "# concatenating numerical data, woe data, encoded data to form final dataset\n",
    "#final_data = pd.concat([num_df, final_catg, enc_res], axis = 1).reindex(final_catg.index)\n",
    "final_data = pd.concat([num_df], axis = 1).reindex(num_df.index)\n",
    "var_names = final_data.columns.drop(target)"
   ]
  },
  {
   "cell_type": "code",
   "execution_count": 36,
   "metadata": {},
   "outputs": [
    {
     "name": "stdout",
     "output_type": "stream",
     "text": [
      " Numerical variables:  172\n",
      " Categorical variables:  0\n",
      " Input variables:  172\n",
      " Initial input data:  (3298, 173)\n"
     ]
    }
   ],
   "source": [
    "print (\" Numerical variables: \", len(num_var))\n",
    "print (\" Categorical variables: \", len(cat_var))\n",
    "print (\" Input variables: \", len(var_names))\n",
    "print (\" Initial input data: \", final_data.shape)"
   ]
  },
  {
   "cell_type": "markdown",
   "metadata": {},
   "source": [
    "#### Development phase"
   ]
  },
  {
   "cell_type": "code",
   "execution_count": 37,
   "metadata": {},
   "outputs": [
    {
     "name": "stdout",
     "output_type": "stream",
     "text": [
      "(2638, 172)\n",
      "(660, 172)\n"
     ]
    },
    {
     "data": {
      "text/plain": [
       "((2638, 173), (660, 173))"
      ]
     },
     "execution_count": 37,
     "metadata": {},
     "output_type": "execute_result"
    }
   ],
   "source": [
    "# split the development file into training, test datasets in the ratio 80:20 resp.\n",
    "X_train, X_test, Y_train, Y_test = train_test_split(final_data[var_names], final_data[target], test_size=0.20, \n",
    "                                                    random_state=247)\n",
    "\n",
    "print (X_train.shape)\n",
    "print (X_test.shape)\n",
    "\n",
    "train = pd.concat([X_train, Y_train], axis = 1)\n",
    "test = pd.concat([X_test, Y_test], axis = 1)\n",
    "train.shape, test.shape"
   ]
  },
  {
   "cell_type": "code",
   "execution_count": 38,
   "metadata": {},
   "outputs": [
    {
     "name": "stdout",
     "output_type": "stream",
     "text": [
      "Iteration 45 : No. of reduced features are:  50\n",
      "0:00:19.004855\n",
      "Final variables of the model are: \n",
      "                                              Var_name  Importance\n",
      "0              s_cnt_user_server_ebzweb_wc_last_3sess    0.082604\n",
      "1             s_cnt_user_server_ebzweb_ch2_last_5sess    0.062010\n",
      "2             s_cnt_user_server_ebzweb_ch2_last_7sess    0.054630\n",
      "3             s_cnt_user_server_ebzweb_ch2_last_3sess    0.052989\n",
      "4    s_sum_time_secs_to_complete_pvtoorder_last_7sess    0.045263\n",
      "5              s_cnt_user_server_ebzweb_wc_last_7sess    0.044037\n",
      "6            s_cnt_user_server_ebzweb_ch2_last_10sess    0.037104\n",
      "7   s_avg_time_secs_to_complete_e12toorder_last_7sess    0.036149\n",
      "8             s_cnt_user_server_ebzweb_wc_last_10sess    0.036020\n",
      "9   s_sum_time_secs_to_complete_pvtoorder_last_10sess    0.033636\n",
      "10   s_sum_time_secs_to_complete_pvtoorder_last_5sess    0.032500\n",
      "11   s_avg_time_secs_to_complete_pvtoorder_last_5sess    0.031954\n",
      "12  s_sum_time_secs_to_complete_e12toorder_last_7sess    0.031490\n",
      "13            s_cnt_lnk_ref_page_internet_last_10sess    0.028092\n",
      "14             s_cnt_user_server_ebzweb_wc_last_5sess    0.022720\n",
      "15  s_sum_time_secs_to_complete_e12toorder_last_5sess    0.020639\n",
      "16                     s_affliate_einstein_last_5sess    0.018769\n",
      "17                   s_affliate_telesales_last_10sess    0.017607\n",
      "18                     s_avg_page_loadtime_last_3sess    0.017604\n",
      "19                     s_sum_page_loadtime_last_7sess    0.016185\n",
      "20                    s_affliate_telesales_last_7sess    0.015764\n",
      "21                    s_affliate_telesales_last_5sess    0.015712\n",
      "22  s_sum_time_secs_to_complete_e12toorder_last_3sess    0.014499\n",
      "23                   s_cnt_click_action_tv_last_7sess    0.014233\n",
      "24              s_avg_total_pages_visited_last_10sess    0.013455\n",
      "25                    s_affliate_telesales_last_3sess    0.012806\n",
      "26                   s_cnt_click_action_tv_last_5sess    0.012573\n",
      "27             s_cnt_lnk_ref_page_internet_last_5sess    0.011654\n",
      "28             s_cnt_lnk_ref_page_internet_last_3sess    0.011221\n",
      "29                     s_sum_page_loadtime_last_5sess    0.011217\n",
      "30               s_avg_total_pages_visited_last_5sess    0.010647\n",
      "31                     s_sum_page_loadtime_last_3sess    0.009877\n",
      "32              s_cnt_custom_agent_windows_last_7sess    0.009690\n",
      "33                     s_affliate_einstein_last_3sess    0.008960\n",
      "34                   s_cnt_domain_comcast_last_10sess    0.008588\n",
      "35                       s_cnt_prev_page_0_last_7sess    0.008324\n",
      "36                  s_cnt_click_action_tv_last_10sess    0.007810\n",
      "37        s_cnt_localizn_adrs_valid_type_alt_last_10s    0.007715\n",
      "38   s_avg_time_secs_to_complete_pvtoorder_last_3sess    0.007250\n",
      "39                    timespent_seconds_afternoon_l7d    0.006920\n",
      "40                        d_sum_paid_search_last_l60d    0.006863\n",
      "41                   s_cnt_resol_len_1280_last_10sess    0.006835\n",
      "42                     s_avg_page_loadtime_last_7sess    0.006630\n",
      "43                     s_cnt_loc_valid_type_5sessions    0.006587\n",
      "44                           d_cnt_desktop_visit_l30d    0.006583\n",
      "45                       s_cnt_prev_page_0_last_5sess    0.006202\n",
      "46                     s_sum_attempt_localisation_l3d    0.005117\n",
      "47                           d_cnt_desktop_visit_l60d    0.004164\n",
      "48                         num_of_pages_afternoon_l7d    0.004109\n",
      "49       s_cnt_localizn_adrs_valid_type_usps_last_10s    0.003485\n"
     ]
    }
   ],
   "source": [
    "rnf = RandomForestClassifier(n_estimators=100, max_features='sqrt', n_jobs=-1, random_state =72, max_depth=3)\n",
    "# Variable selection based on random forest's variable importance\n",
    "start_time = datetime.now()\n",
    "redu = model_fit(X_train, Y_train, rnf, size=50)\n",
    "print (datetime.now() - start_time)\n",
    "print (\"Final variables of the model are: \" + \"\\n\", redu.reset_index(drop=True))"
   ]
  },
  {
   "cell_type": "markdown",
   "metadata": {},
   "source": [
    "##### Correlation of input with output"
   ]
  },
  {
   "cell_type": "code",
   "execution_count": 39,
   "metadata": {},
   "outputs": [
    {
     "data": {
      "text/plain": [
       "s_cnt_user_server_ebzweb_wc_last_3sess              -0.132693\n",
       "s_cnt_user_server_ebzweb_ch2_last_5sess             -0.113721\n",
       "s_cnt_user_server_ebzweb_ch2_last_7sess             -0.105490\n",
       "s_cnt_user_server_ebzweb_ch2_last_3sess             -0.128135\n",
       "s_sum_time_secs_to_complete_pvtoorder_last_7sess     0.015794\n",
       "s_cnt_user_server_ebzweb_wc_last_7sess              -0.124298\n",
       "s_cnt_user_server_ebzweb_ch2_last_10sess            -0.097082\n",
       "s_avg_time_secs_to_complete_e12toorder_last_7sess    0.015631\n",
       "s_cnt_user_server_ebzweb_wc_last_10sess             -0.119394\n",
       "s_sum_time_secs_to_complete_pvtoorder_last_10sess    0.015832\n",
       "s_sum_time_secs_to_complete_pvtoorder_last_5sess     0.015759\n",
       "s_avg_time_secs_to_complete_pvtoorder_last_5sess     0.015634\n",
       "s_sum_time_secs_to_complete_e12toorder_last_7sess    0.015777\n",
       "s_cnt_lnk_ref_page_internet_last_10sess              0.015588\n",
       "s_cnt_user_server_ebzweb_wc_last_5sess              -0.128292\n",
       "s_sum_time_secs_to_complete_e12toorder_last_5sess    0.015746\n",
       "s_affliate_einstein_last_5sess                       0.127024\n",
       "s_affliate_telesales_last_10sess                     0.125870\n",
       "s_avg_page_loadtime_last_3sess                       0.022308\n",
       "s_sum_page_loadtime_last_7sess                       0.023579\n",
       "s_affliate_telesales_last_7sess                      0.128168\n",
       "s_affliate_telesales_last_5sess                      0.129885\n",
       "s_sum_time_secs_to_complete_e12toorder_last_3sess    0.015709\n",
       "s_cnt_click_action_tv_last_7sess                    -0.081829\n",
       "s_avg_total_pages_visited_last_10sess               -0.039694\n",
       "s_affliate_telesales_last_3sess                      0.130149\n",
       "s_cnt_click_action_tv_last_5sess                    -0.091640\n",
       "s_cnt_lnk_ref_page_internet_last_5sess               0.015588\n",
       "s_cnt_lnk_ref_page_internet_last_3sess               0.015588\n",
       "s_sum_page_loadtime_last_5sess                       0.022754\n",
       "s_avg_total_pages_visited_last_5sess                -0.032767\n",
       "s_sum_page_loadtime_last_3sess                       0.022643\n",
       "s_cnt_custom_agent_windows_last_7sess                0.055863\n",
       "s_affliate_einstein_last_3sess                       0.128028\n",
       "s_cnt_domain_comcast_last_10sess                     0.087294\n",
       "s_cnt_prev_page_0_last_7sess                        -0.041374\n",
       "s_cnt_click_action_tv_last_10sess                   -0.068023\n",
       "s_cnt_localizn_adrs_valid_type_alt_last_10s          0.098859\n",
       "s_avg_time_secs_to_complete_pvtoorder_last_3sess     0.015635\n",
       "timespent_seconds_afternoon_l7d                     -0.017788\n",
       "d_sum_paid_search_last_l60d                          0.020808\n",
       "s_cnt_resol_len_1280_last_10sess                     0.096207\n",
       "s_avg_page_loadtime_last_7sess                       0.022311\n",
       "s_cnt_loc_valid_type_5sessions                       0.086791\n",
       "d_cnt_desktop_visit_l30d                             0.070635\n",
       "s_cnt_prev_page_0_last_5sess                        -0.045580\n",
       "s_sum_attempt_localisation_l3d                       0.075307\n",
       "d_cnt_desktop_visit_l60d                             0.068857\n",
       "num_of_pages_afternoon_l7d                          -0.018067\n",
       "s_cnt_localizn_adrs_valid_type_usps_last_10s         0.098859\n",
       "vid_tiers_target                                     1.000000\n",
       "Name: vid_tiers_target, dtype: float64"
      ]
     },
     "execution_count": 39,
     "metadata": {},
     "output_type": "execute_result"
    }
   ],
   "source": [
    "v = list(redu['Var_name'])\n",
    "v.append(target)\n",
    "w = pd.DataFrame(train[v].corr())\n",
    "#len(v)\n",
    "#w.iloc[:,40:]\n",
    "w['vid_tiers_target']"
   ]
  },
  {
   "cell_type": "code",
   "execution_count": 40,
   "metadata": {},
   "outputs": [
    {
     "name": "stdout",
     "output_type": "stream",
     "text": [
      "5\n"
     ]
    },
    {
     "data": {
      "text/plain": [
       "50"
      ]
     },
     "execution_count": 40,
     "metadata": {},
     "output_type": "execute_result"
    }
   ],
   "source": [
    "cor_var_drop = ['geo_zip_WOE','geo_city_WOE','geo_region_WOE','division_LE','division_WOE']\n",
    "print(len(cor_var_drop))\n",
    "unc_var = [x for x in redu['Var_name'] if x not in cor_var_drop]\n",
    "len(unc_var)"
   ]
  },
  {
   "cell_type": "code",
   "execution_count": 41,
   "metadata": {},
   "outputs": [
    {
     "data": {
      "text/plain": [
       "['s_cnt_user_server_ebzweb_wc_last_3sess',\n",
       " 's_cnt_user_server_ebzweb_ch2_last_5sess',\n",
       " 's_cnt_user_server_ebzweb_ch2_last_7sess',\n",
       " 's_cnt_user_server_ebzweb_ch2_last_3sess',\n",
       " 's_sum_time_secs_to_complete_pvtoorder_last_7sess',\n",
       " 's_cnt_user_server_ebzweb_wc_last_7sess',\n",
       " 's_cnt_user_server_ebzweb_ch2_last_10sess',\n",
       " 's_avg_time_secs_to_complete_e12toorder_last_7sess',\n",
       " 's_cnt_user_server_ebzweb_wc_last_10sess',\n",
       " 's_sum_time_secs_to_complete_pvtoorder_last_10sess',\n",
       " 's_sum_time_secs_to_complete_pvtoorder_last_5sess',\n",
       " 's_avg_time_secs_to_complete_pvtoorder_last_5sess',\n",
       " 's_sum_time_secs_to_complete_e12toorder_last_7sess',\n",
       " 's_cnt_lnk_ref_page_internet_last_10sess',\n",
       " 's_cnt_user_server_ebzweb_wc_last_5sess',\n",
       " 's_sum_time_secs_to_complete_e12toorder_last_5sess',\n",
       " 's_affliate_einstein_last_5sess',\n",
       " 's_affliate_telesales_last_10sess',\n",
       " 's_avg_page_loadtime_last_3sess',\n",
       " 's_sum_page_loadtime_last_7sess',\n",
       " 's_affliate_telesales_last_7sess',\n",
       " 's_affliate_telesales_last_5sess',\n",
       " 's_sum_time_secs_to_complete_e12toorder_last_3sess',\n",
       " 's_cnt_click_action_tv_last_7sess',\n",
       " 's_avg_total_pages_visited_last_10sess',\n",
       " 's_affliate_telesales_last_3sess',\n",
       " 's_cnt_click_action_tv_last_5sess',\n",
       " 's_cnt_lnk_ref_page_internet_last_5sess',\n",
       " 's_cnt_lnk_ref_page_internet_last_3sess',\n",
       " 's_sum_page_loadtime_last_5sess',\n",
       " 's_avg_total_pages_visited_last_5sess',\n",
       " 's_sum_page_loadtime_last_3sess',\n",
       " 's_cnt_custom_agent_windows_last_7sess',\n",
       " 's_affliate_einstein_last_3sess',\n",
       " 's_cnt_domain_comcast_last_10sess',\n",
       " 's_cnt_prev_page_0_last_7sess',\n",
       " 's_cnt_click_action_tv_last_10sess',\n",
       " 's_cnt_localizn_adrs_valid_type_alt_last_10s',\n",
       " 's_avg_time_secs_to_complete_pvtoorder_last_3sess',\n",
       " 'timespent_seconds_afternoon_l7d',\n",
       " 'd_sum_paid_search_last_l60d',\n",
       " 's_cnt_resol_len_1280_last_10sess',\n",
       " 's_avg_page_loadtime_last_7sess',\n",
       " 's_cnt_loc_valid_type_5sessions',\n",
       " 'd_cnt_desktop_visit_l30d',\n",
       " 's_cnt_prev_page_0_last_5sess',\n",
       " 's_sum_attempt_localisation_l3d',\n",
       " 'd_cnt_desktop_visit_l60d',\n",
       " 'num_of_pages_afternoon_l7d',\n",
       " 's_cnt_localizn_adrs_valid_type_usps_last_10s']"
      ]
     },
     "execution_count": 41,
     "metadata": {},
     "output_type": "execute_result"
    }
   ],
   "source": [
    "unc_var"
   ]
  },
  {
   "cell_type": "code",
   "execution_count": 42,
   "metadata": {},
   "outputs": [
    {
     "name": "stdout",
     "output_type": "stream",
     "text": [
      "KS_Train :  12.73\n",
      "KS_Test :  24.34\n"
     ]
    }
   ],
   "source": [
    "lgr = LogisticRegression()\n",
    "clf_lr = lgr.fit(X_train[unc_var], Y_train)\n",
    "\n",
    "y_pred_train, y_proba_train, ks_train, dec_train = out_ks(X_train[unc_var], Y_train, clf_lr, target)\n",
    "y_pred_test, y_proba_test, ks_test, dec_test = out_ks(X_test[unc_var], Y_test, clf_lr, target)\n",
    "\n",
    "\n",
    "print (\"KS_Train : \", round(ks_train,2))\n",
    "print (\"KS_Test : \", round(ks_test,2))"
   ]
  },
  {
   "cell_type": "code",
   "execution_count": 43,
   "metadata": {},
   "outputs": [
    {
     "name": "stdout",
     "output_type": "stream",
     "text": [
      "KS_Train :  22.02\n",
      "KS_Test :  29.93\n"
     ]
    }
   ],
   "source": [
    "clf = RandomForestClassifier(n_estimators=50, max_depth=2, max_features='sqrt', n_jobs=-1, random_state =72, verbose=0)\n",
    "#clf = RandomForestClassifier(n_estimators=60, criterion='gini', max_depth=5, min_samples_split=2, min_samples_leaf=2,\n",
    "                            #max_features='auto', max_leaf_nodes=2, random_state=99)\n",
    "\n",
    "clf_rf = clf.fit(X_train[unc_var], Y_train)\n",
    "\n",
    "y_pred_train, y_proba_train, ks_train, dec_train = out_ks(X_train[unc_var], Y_train, clf_rf, target)\n",
    "y_pred_test, y_proba_test, ks_test, dec_test = out_ks(X_test[unc_var], Y_test, clf_rf, target)\n",
    "\n",
    "print (\"KS_Train : \", round(ks_train,2))\n",
    "print (\"KS_Test : \", round(ks_test,2))"
   ]
  },
  {
   "cell_type": "markdown",
   "metadata": {},
   "source": [
    "##### VIF of first cut 50 variables"
   ]
  },
  {
   "cell_type": "code",
   "execution_count": 44,
   "metadata": {},
   "outputs": [
    {
     "data": {
      "text/plain": [
       "50"
      ]
     },
     "execution_count": 44,
     "metadata": {},
     "output_type": "execute_result"
    }
   ],
   "source": [
    "x_f = final_data[redu['Var_name']]\n",
    "vif_cat_f = pd.DataFrame()\n",
    "len(x_f.columns)\n",
    "#x_f.columns"
   ]
  },
  {
   "cell_type": "code",
   "execution_count": 45,
   "metadata": {},
   "outputs": [
    {
     "name": "stdout",
     "output_type": "stream",
     "text": [
      "0:00:01.461122\n",
      "Final no. of categorical variables after VIF based reduction :  50\n",
      "0:00:01.255845\n",
      "Final no. of categorical variables after VIF based reduction :  49\n",
      "0:00:01.397229\n",
      "Final no. of categorical variables after VIF based reduction :  48\n",
      "0:00:01.414961\n",
      "Final no. of categorical variables after VIF based reduction :  47\n",
      "0:00:01.237222\n",
      "Final no. of categorical variables after VIF based reduction :  46\n",
      "0:00:01.248684\n",
      "Final no. of categorical variables after VIF based reduction :  45\n",
      "0:00:01.241668\n",
      "Final no. of categorical variables after VIF based reduction :  44\n",
      "0:00:01.155211\n",
      "Final no. of categorical variables after VIF based reduction :  43\n",
      "0:00:01.031411\n",
      "Final no. of categorical variables after VIF based reduction :  42\n",
      "0:00:00.699210\n",
      "Final no. of categorical variables after VIF based reduction :  41\n",
      "0:00:00.614015\n",
      "Final no. of categorical variables after VIF based reduction :  40\n",
      "0:00:00.773773\n",
      "Final no. of categorical variables after VIF based reduction :  39\n",
      "0:00:00.790517\n",
      "Final no. of categorical variables after VIF based reduction :  38\n",
      "0:00:00.668580\n",
      "Final no. of categorical variables after VIF based reduction :  37\n",
      "0:00:00.778860\n",
      "Final no. of categorical variables after VIF based reduction :  36\n",
      "0:00:00.743515\n",
      "Final no. of categorical variables after VIF based reduction :  35\n",
      "0:00:00.689258\n",
      "Final no. of categorical variables after VIF based reduction :  34\n",
      "0:00:00.563080\n",
      "Final no. of categorical variables after VIF based reduction :  33\n",
      "0:00:00.616812\n",
      "Final no. of categorical variables after VIF based reduction :  32\n",
      "0:00:00.493677\n",
      "Final no. of categorical variables after VIF based reduction :  31\n",
      "0:00:00.536565\n",
      "Final no. of categorical variables after VIF based reduction :  30\n",
      "0:00:00.485873\n",
      "Final no. of categorical variables after VIF based reduction :  29\n",
      "0:00:00.465878\n",
      "Final no. of categorical variables after VIF based reduction :  28\n",
      "0:00:00.428281\n",
      "Final no. of categorical variables after VIF based reduction :  27\n",
      "0:00:00.362664\n",
      "Final no. of categorical variables after VIF based reduction :  26\n",
      "0:00:00.364121\n",
      "Final no. of categorical variables after VIF based reduction :  25\n",
      "0:00:00.341685\n",
      "Final no. of categorical variables after VIF based reduction :  24\n",
      "0:00:00.273995\n",
      "Final no. of categorical variables after VIF based reduction :  23\n",
      "0:00:00.281676\n",
      "Final no. of categorical variables after VIF based reduction :  22\n",
      "0:00:00.256933\n",
      "Final no. of categorical variables after VIF based reduction :  21\n",
      "0:00:00.193548\n",
      "Final no. of categorical variables after VIF based reduction :  20\n",
      "0:00:00.211669\n",
      "Final no. of categorical variables after VIF based reduction :  19\n",
      "0:00:00.192846\n",
      "Final no. of categorical variables after VIF based reduction :  18\n",
      "0:00:00.168769\n",
      "Final no. of categorical variables after VIF based reduction :  17\n",
      "0:00:00.152618\n",
      "Final no. of categorical variables after VIF based reduction :  16\n",
      "0:00:00.089179\n",
      "Final no. of categorical variables after VIF based reduction :  15\n",
      "0:00:00.070868\n",
      "Final no. of categorical variables after VIF based reduction :  14\n",
      "0:00:00.086461\n",
      "Final no. of categorical variables after VIF based reduction :  13\n",
      "0:00:00.058035\n",
      "Final no. of categorical variables after VIF based reduction :  12\n",
      "0:00:00.052678\n",
      "Final no. of categorical variables after VIF based reduction :  11\n",
      "0:00:00.035567\n",
      "Final no. of categorical variables after VIF based reduction :  10\n",
      "0:00:00.033049\n",
      "Final no. of categorical variables after VIF based reduction :  9\n",
      "             VIF                                           Var_name\n",
      "0            inf       s_cnt_localizn_adrs_valid_type_usps_last_10s\n",
      "1   1.058425e+13             s_cnt_lnk_ref_page_internet_last_5sess\n",
      "2   1.750330e+12            s_cnt_lnk_ref_page_internet_last_10sess\n",
      "3   3.789910e+09   s_avg_time_secs_to_complete_pvtoorder_last_5sess\n",
      "4   8.193424e+08  s_sum_time_secs_to_complete_e12toorder_last_5sess\n",
      "5   4.558827e+08   s_avg_time_secs_to_complete_pvtoorder_last_3sess\n",
      "6   1.055350e+08   s_sum_time_secs_to_complete_pvtoorder_last_7sess\n",
      "7   3.898969e+07  s_avg_time_secs_to_complete_e12toorder_last_7sess\n",
      "8   3.057260e+07  s_sum_time_secs_to_complete_e12toorder_last_7sess\n",
      "9   2.601679e+07   s_sum_time_secs_to_complete_pvtoorder_last_5sess\n",
      "10  7.824639e+06  s_sum_time_secs_to_complete_e12toorder_last_3sess\n",
      "11  1.163476e+06  s_sum_time_secs_to_complete_pvtoorder_last_10sess\n",
      "12  3.759688e+05                    timespent_seconds_afternoon_l7d\n",
      "13  2.567978e+03                     s_avg_page_loadtime_last_3sess\n",
      "14  1.128859e+03                     s_sum_page_loadtime_last_5sess\n",
      "15  2.218874e+02            s_cnt_user_server_ebzweb_ch2_last_7sess\n",
      "16  2.163795e+02                     s_sum_page_loadtime_last_7sess\n",
      "17  2.006952e+02                    s_affliate_telesales_last_7sess\n",
      "18  1.666928e+02             s_cnt_user_server_ebzweb_wc_last_7sess\n",
      "19  1.289629e+02                   s_cnt_click_action_tv_last_7sess\n",
      "20  1.258073e+02               s_avg_total_pages_visited_last_5sess\n",
      "21  1.070643e+02                    s_affliate_telesales_last_5sess\n",
      "22  1.059285e+02                     s_avg_page_loadtime_last_7sess\n",
      "23  1.030076e+02                       s_cnt_prev_page_0_last_7sess\n",
      "24  7.342680e+01                     s_affliate_einstein_last_5sess\n",
      "25  4.788904e+01            s_cnt_user_server_ebzweb_ch2_last_5sess\n",
      "26  4.458192e+01             s_cnt_user_server_ebzweb_wc_last_5sess\n",
      "27  3.745192e+01                           d_cnt_desktop_visit_l60d\n",
      "28  2.205908e+01                  s_cnt_click_action_tv_last_10sess\n",
      "29  1.482536e+01                   s_affliate_telesales_last_10sess\n",
      "30  1.012675e+01        s_cnt_localizn_adrs_valid_type_alt_last_10s\n",
      "31  9.920164e+00                     s_affliate_einstein_last_3sess\n",
      "32  7.483069e+00            s_cnt_user_server_ebzweb_ch2_last_3sess\n",
      "33  5.946687e+00             s_cnt_user_server_ebzweb_wc_last_3sess\n",
      "34  4.890392e+00                           d_cnt_desktop_visit_l30d\n",
      "35  4.395424e+00                       s_cnt_prev_page_0_last_5sess\n",
      "36  3.745286e+00                     s_cnt_loc_valid_type_5sessions\n",
      "37  2.969945e+00              s_avg_total_pages_visited_last_10sess\n",
      "38  2.813272e+00                   s_cnt_resol_len_1280_last_10sess\n",
      "39  2.422632e+00                         num_of_pages_afternoon_l7d\n",
      "40  2.021205e+00           s_cnt_user_server_ebzweb_ch2_last_10sess\n",
      "                                  Var_name       VIF\n",
      "0         s_cnt_domain_comcast_last_10sess  1.908849\n",
      "1          s_affliate_telesales_last_3sess  1.797363\n",
      "2    s_cnt_custom_agent_windows_last_7sess  1.786870\n",
      "3         s_cnt_click_action_tv_last_5sess  1.657223\n",
      "4              d_sum_paid_search_last_l60d  1.448976\n",
      "5  s_cnt_user_server_ebzweb_wc_last_10sess  1.374040\n",
      "6           s_sum_attempt_localisation_l3d  1.341238\n",
      "7   s_cnt_lnk_ref_page_internet_last_3sess  1.231239\n",
      "8           s_sum_page_loadtime_last_3sess  1.010045\n"
     ]
    }
   ],
   "source": [
    "vif_drop_var_f = []\n",
    "vif_drop_val_f = []\n",
    "\n",
    "startTime = datetime.now()\n",
    "vif_f = [variance_inflation_factor(x_f.values, ix) for ix in range(x_f.shape[1])]\n",
    "vif_cat_f = pd.concat([pd.DataFrame(x_f.columns, columns = ['Var_name']), pd.DataFrame(vif_f, columns = ['VIF'])],axis=1)\n",
    "vif_cat_f = vif_cat_f.sort_values('VIF', ascending=0).reset_index(drop=True)\n",
    "print (datetime.now() - startTime)\n",
    "print (\"Final no. of categorical variables after VIF based reduction : \", len(vif_cat_f))\n",
    "\n",
    "\n",
    "while (vif_cat_f['VIF'][0] >=2):\n",
    "    x_f = final_data[redu['Var_name']]\n",
    "    vif_drop_var_f.append(vif_cat_f['Var_name'][0])\n",
    "    vif_drop_val_f.append(vif_cat_f['VIF'][0])\n",
    "    x_f = x_f.drop(vif_drop_var_f, axis = 1)\n",
    "\n",
    "    startTime = datetime.now()\n",
    "    vif_f = [variance_inflation_factor(x_f.values, ix) for ix in range(x_f.shape[1])]\n",
    "    vif_cat_f = pd.concat([pd.DataFrame(x_f.columns, columns = ['Var_name']), pd.DataFrame(vif_f, columns = ['VIF'])],axis=1)\n",
    "    vif_cat_f = vif_cat_f.sort_values('VIF', ascending=0).reset_index(drop=True)\n",
    "    print (datetime.now() - startTime)\n",
    "    print (\"Final no. of categorical variables after VIF based reduction : \", len(vif_cat_f))\n",
    "    \n",
    "    vif_drop_f = pd.DataFrame({'VIF':vif_drop_val_f,'Var_name':vif_drop_var_f})\n",
    "    \n",
    "\n",
    "print(vif_drop_f)\n",
    "print(vif_cat_f)"
   ]
  },
  {
   "cell_type": "code",
   "execution_count": 46,
   "metadata": {},
   "outputs": [
    {
     "name": "stdout",
     "output_type": "stream",
     "text": [
      "Optimization terminated successfully.\n",
      "         Current function value: 0.669032\n",
      "         Iterations 7\n",
      "                           Logit Regression Results                           \n",
      "==============================================================================\n",
      "Dep. Variable:       vid_tiers_target   No. Observations:                 2638\n",
      "Model:                          Logit   Df Residuals:                     2629\n",
      "Method:                           MLE   Df Model:                            8\n",
      "Date:                Thu, 07 Nov 2019   Pseudo R-squ.:                 0.03433\n",
      "Time:                        19:02:20   Log-Likelihood:                -1764.9\n",
      "converged:                       True   LL-Null:                       -1827.6\n",
      "                                        LLR p-value:                 2.444e-23\n",
      "===========================================================================================================\n",
      "                                              coef    std err          z      P>|z|      [0.025      0.975]\n",
      "-----------------------------------------------------------------------------------------------------------\n",
      "s_cnt_domain_comcast_last_10sess            0.0105      0.028      0.372      0.710      -0.045       0.066\n",
      "s_affliate_telesales_last_3sess             1.3012      0.366      3.554      0.000       0.584       2.019\n",
      "s_cnt_custom_agent_windows_last_7sess       0.0371      0.029      1.264      0.206      -0.020       0.095\n",
      "s_cnt_click_action_tv_last_5sess           -0.2116      0.042     -5.047      0.000      -0.294      -0.129\n",
      "d_sum_paid_search_last_l60d                 0.0955      0.036      2.635      0.008       0.024       0.167\n",
      "s_cnt_user_server_ebzweb_wc_last_10sess    -0.1705      0.034     -5.055      0.000      -0.237      -0.104\n",
      "s_sum_attempt_localisation_l3d              0.0310      0.026      1.185      0.236      -0.020       0.082\n",
      "s_cnt_lnk_ref_page_internet_last_3sess   1.166e-07   8.47e-08      1.377      0.169   -4.94e-08    2.83e-07\n",
      "s_sum_page_loadtime_last_3sess              0.0002      0.000      2.286      0.022    3.53e-05       0.000\n",
      "===========================================================================================================\n"
     ]
    }
   ],
   "source": [
    "logit_model=sm.Logit(Y_train,X_train[vif_cat_f['Var_name']])\n",
    "result=logit_model.fit()\n",
    "print(result.summary())"
   ]
  },
  {
   "cell_type": "code",
   "execution_count": 47,
   "metadata": {},
   "outputs": [
    {
     "name": "stdout",
     "output_type": "stream",
     "text": [
      "KS_Train :  15.2\n",
      "KS_Test :  18.19\n"
     ]
    }
   ],
   "source": [
    "lgr = LogisticRegression()\n",
    "\n",
    "clf_lr_f = lgr.fit(X_train[vif_cat_f['Var_name']], Y_train)\n",
    "\n",
    "y_pred_train_f, y_proba_train_f, ks_train_f, dec_train_f = out_ks(X_train[vif_cat_f['Var_name']], Y_train, clf_lr_f, target)\n",
    "y_pred_test_f, y_proba_test_f, ks_test_f, dec_test_f = out_ks(X_test[vif_cat_f['Var_name']], Y_test, clf_lr_f, target)\n",
    "\n",
    "\n",
    "print (\"KS_Train : \", round(ks_train_f,2))\n",
    "print (\"KS_Test : \", round(ks_test_f,2))"
   ]
  },
  {
   "cell_type": "code",
   "execution_count": 48,
   "metadata": {},
   "outputs": [
    {
     "name": "stdout",
     "output_type": "stream",
     "text": [
      "AUC_Train : 60.95%\n",
      "AUC_Test : 61.28%\n",
      "\n",
      "Accuracy_Train : 57.62%\n",
      "Precision_Train : 57.32%\n",
      "Recall_Train : 50.89%\n",
      "Confusion matrix: \n",
      " [[866 487]\n",
      " [631 654]]\n",
      "\n",
      "Accuracy_Test : 59.55%\n",
      "Precision_Test : 54.29%\n",
      "Recall_Test : 52.23%\n",
      "Confusion matrix: \n",
      " [[241 128]\n",
      " [139 152]]\n"
     ]
    }
   ],
   "source": [
    "roc_train, acu_train, prec_train, rec_train, cm_train = metrics(Y_train, y_pred_train_f, y_proba_train_f)\n",
    "roc_test, acu_test, prec_test, rec_test, cm_test = metrics(Y_test, y_pred_test_f, y_proba_test_f)\n",
    "print (\"AUC_Train : {0:.2%}\".format(roc_train))\n",
    "print (\"AUC_Test : {0:.2%}\".format(roc_test))\n",
    "\n",
    "print (\"\\n\" + \"Accuracy_Train : {0:.2%}\".format(acu_train))\n",
    "print (\"Precision_Train : {0:.2%}\".format(prec_train))\n",
    "print (\"Recall_Train : {0:.2%}\".format(rec_train))\n",
    "print (\"Confusion matrix: \"+\"\\n\",cm_train)\n",
    "\n",
    "print (\"\\n\" + \"Accuracy_Test : {0:.2%}\".format(acu_test))\n",
    "print (\"Precision_Test : {0:.2%}\".format(prec_test))\n",
    "print (\"Recall_Test : {0:.2%}\".format(rec_test))\n",
    "print (\"Confusion matrix: \"+\"\\n\",cm_test)"
   ]
  },
  {
   "cell_type": "code",
   "execution_count": 65,
   "metadata": {},
   "outputs": [
    {
     "data": {
      "text/html": [
       "<div>\n",
       "<style>\n",
       "    .dataframe thead tr:only-child th {\n",
       "        text-align: right;\n",
       "    }\n",
       "\n",
       "    .dataframe thead th {\n",
       "        text-align: left;\n",
       "    }\n",
       "\n",
       "    .dataframe tbody tr th {\n",
       "        vertical-align: top;\n",
       "    }\n",
       "</style>\n",
       "<table border=\"1\" class=\"dataframe\">\n",
       "  <thead>\n",
       "    <tr style=\"text-align: right;\">\n",
       "      <th></th>\n",
       "      <th>Var_name</th>\n",
       "      <th>VIF</th>\n",
       "    </tr>\n",
       "  </thead>\n",
       "  <tbody>\n",
       "    <tr>\n",
       "      <th>0</th>\n",
       "      <td>s_cnt_domain_comcast_last_10sess</td>\n",
       "      <td>1.908849</td>\n",
       "    </tr>\n",
       "    <tr>\n",
       "      <th>1</th>\n",
       "      <td>s_affliate_telesales_last_3sess</td>\n",
       "      <td>1.797363</td>\n",
       "    </tr>\n",
       "    <tr>\n",
       "      <th>2</th>\n",
       "      <td>s_cnt_custom_agent_windows_last_7sess</td>\n",
       "      <td>1.786870</td>\n",
       "    </tr>\n",
       "    <tr>\n",
       "      <th>3</th>\n",
       "      <td>s_cnt_click_action_tv_last_5sess</td>\n",
       "      <td>1.657223</td>\n",
       "    </tr>\n",
       "    <tr>\n",
       "      <th>4</th>\n",
       "      <td>d_sum_paid_search_last_l60d</td>\n",
       "      <td>1.448976</td>\n",
       "    </tr>\n",
       "    <tr>\n",
       "      <th>5</th>\n",
       "      <td>s_cnt_user_server_ebzweb_wc_last_10sess</td>\n",
       "      <td>1.374040</td>\n",
       "    </tr>\n",
       "    <tr>\n",
       "      <th>6</th>\n",
       "      <td>s_sum_attempt_localisation_l3d</td>\n",
       "      <td>1.341238</td>\n",
       "    </tr>\n",
       "    <tr>\n",
       "      <th>7</th>\n",
       "      <td>s_cnt_lnk_ref_page_internet_last_3sess</td>\n",
       "      <td>1.231239</td>\n",
       "    </tr>\n",
       "    <tr>\n",
       "      <th>8</th>\n",
       "      <td>s_sum_page_loadtime_last_3sess</td>\n",
       "      <td>1.010045</td>\n",
       "    </tr>\n",
       "  </tbody>\n",
       "</table>\n",
       "</div>"
      ],
      "text/plain": [
       "                                  Var_name       VIF\n",
       "0         s_cnt_domain_comcast_last_10sess  1.908849\n",
       "1          s_affliate_telesales_last_3sess  1.797363\n",
       "2    s_cnt_custom_agent_windows_last_7sess  1.786870\n",
       "3         s_cnt_click_action_tv_last_5sess  1.657223\n",
       "4              d_sum_paid_search_last_l60d  1.448976\n",
       "5  s_cnt_user_server_ebzweb_wc_last_10sess  1.374040\n",
       "6           s_sum_attempt_localisation_l3d  1.341238\n",
       "7   s_cnt_lnk_ref_page_internet_last_3sess  1.231239\n",
       "8           s_sum_page_loadtime_last_3sess  1.010045"
      ]
     },
     "execution_count": 65,
     "metadata": {},
     "output_type": "execute_result"
    }
   ],
   "source": [
    "vif_cat_f_org = vif_cat_f.copy()\n",
    "vif_cat_f_org"
   ]
  },
  {
   "cell_type": "code",
   "execution_count": 66,
   "metadata": {},
   "outputs": [],
   "source": [
    "vif_cat_f = vif_cat_f_org.drop(vif_cat_f_org[vif_cat_f_org['Var_name']=='s_cnt_domain_comcast_last_10sess'].index[0],axis=0)"
   ]
  },
  {
   "cell_type": "code",
   "execution_count": 98,
   "metadata": {},
   "outputs": [
    {
     "name": "stdout",
     "output_type": "stream",
     "text": [
      "*** Training & Test Results ***\n",
      "KS_Train :  22.67\n",
      "KS_Test :  23.73\n"
     ]
    }
   ],
   "source": [
    "clf = RandomForestClassifier(n_estimators=100, max_depth=3, max_features='sqrt', n_jobs=-1, random_state =72, verbose=0)\n",
    "#clf = RandomForestClassifier(n_estimators=60, criterion='gini', max_depth=5, min_samples_split=2, min_samples_leaf=2,\n",
    "                            #max_features='auto', max_leaf_nodes=2, random_state=99)\n",
    "clf_rf_f = clf.fit(X_train[vif_cat_f['Var_name']], Y_train)\n",
    "\n",
    "y_pred_train_f, y_proba_train_f, ks_train_f, dec_train_f = out_ks(X_train[vif_cat_f['Var_name']], Y_train, clf_rf_f, target)\n",
    "y_pred_test_f, y_proba_test_f, ks_test_f, dec_test_f = out_ks(X_test[vif_cat_f['Var_name']], Y_test, clf_rf_f, target)\n",
    "\n",
    "print(\"*** Training & Test Results ***\")\n",
    "print (\"KS_Train : \", round(ks_train_f,2))\n",
    "print (\"KS_Test : \", round(ks_test_f,2))"
   ]
  },
  {
   "cell_type": "code",
   "execution_count": 68,
   "metadata": {},
   "outputs": [
    {
     "data": {
      "text/html": [
       "<div>\n",
       "<style>\n",
       "    .dataframe thead tr:only-child th {\n",
       "        text-align: right;\n",
       "    }\n",
       "\n",
       "    .dataframe thead th {\n",
       "        text-align: left;\n",
       "    }\n",
       "\n",
       "    .dataframe tbody tr th {\n",
       "        vertical-align: top;\n",
       "    }\n",
       "</style>\n",
       "<table border=\"1\" class=\"dataframe\">\n",
       "  <thead>\n",
       "    <tr style=\"text-align: right;\">\n",
       "      <th></th>\n",
       "      <th>Var_name</th>\n",
       "      <th>Importance</th>\n",
       "    </tr>\n",
       "  </thead>\n",
       "  <tbody>\n",
       "    <tr>\n",
       "      <th>4</th>\n",
       "      <td>s_cnt_user_server_ebzweb_wc_last_10sess</td>\n",
       "      <td>0.224068</td>\n",
       "    </tr>\n",
       "    <tr>\n",
       "      <th>7</th>\n",
       "      <td>s_sum_page_loadtime_last_3sess</td>\n",
       "      <td>0.179423</td>\n",
       "    </tr>\n",
       "    <tr>\n",
       "      <th>0</th>\n",
       "      <td>s_affliate_telesales_last_3sess</td>\n",
       "      <td>0.175406</td>\n",
       "    </tr>\n",
       "    <tr>\n",
       "      <th>6</th>\n",
       "      <td>s_cnt_lnk_ref_page_internet_last_3sess</td>\n",
       "      <td>0.139766</td>\n",
       "    </tr>\n",
       "    <tr>\n",
       "      <th>2</th>\n",
       "      <td>s_cnt_click_action_tv_last_5sess</td>\n",
       "      <td>0.096139</td>\n",
       "    </tr>\n",
       "    <tr>\n",
       "      <th>5</th>\n",
       "      <td>s_sum_attempt_localisation_l3d</td>\n",
       "      <td>0.084752</td>\n",
       "    </tr>\n",
       "    <tr>\n",
       "      <th>1</th>\n",
       "      <td>s_cnt_custom_agent_windows_last_7sess</td>\n",
       "      <td>0.065786</td>\n",
       "    </tr>\n",
       "    <tr>\n",
       "      <th>3</th>\n",
       "      <td>d_sum_paid_search_last_l60d</td>\n",
       "      <td>0.034660</td>\n",
       "    </tr>\n",
       "  </tbody>\n",
       "</table>\n",
       "</div>"
      ],
      "text/plain": [
       "                                  Var_name  Importance\n",
       "4  s_cnt_user_server_ebzweb_wc_last_10sess    0.224068\n",
       "7           s_sum_page_loadtime_last_3sess    0.179423\n",
       "0          s_affliate_telesales_last_3sess    0.175406\n",
       "6   s_cnt_lnk_ref_page_internet_last_3sess    0.139766\n",
       "2         s_cnt_click_action_tv_last_5sess    0.096139\n",
       "5           s_sum_attempt_localisation_l3d    0.084752\n",
       "1    s_cnt_custom_agent_windows_last_7sess    0.065786\n",
       "3              d_sum_paid_search_last_l60d    0.034660"
      ]
     },
     "execution_count": 68,
     "metadata": {},
     "output_type": "execute_result"
    }
   ],
   "source": [
    "var_imp11 = pd.DataFrame(list(zip(X_train[vif_cat_f['Var_name']], clf_rf_f.feature_importances_)), \n",
    "                         columns = ['Var_name', 'Importance'])\\\n",
    "            .sort_values(['Importance'], ascending = [0]) \n",
    "var_imp11"
   ]
  },
  {
   "cell_type": "code",
   "execution_count": 69,
   "metadata": {},
   "outputs": [
    {
     "name": "stdout",
     "output_type": "stream",
     "text": [
      "AUC_Train : 66.10%\n",
      "AUC_Test : 63.87%\n",
      "\n",
      "Accuracy_Train : 61.45%\n",
      "Precision_Train : 62.50%\n",
      "Recall_Train : 52.14%\n",
      "Confusion matrix: \n",
      " [[951 402]\n",
      " [615 670]]\n",
      "\n",
      "Accuracy_Test : 62.12%\n",
      "Precision_Test : 58.23%\n",
      "Recall_Test : 49.83%\n",
      "Confusion matrix: \n",
      " [[265 104]\n",
      " [146 145]]\n"
     ]
    }
   ],
   "source": [
    "roc_train, acu_train, prec_train, rec_train, cm_train = metrics(Y_train, y_pred_train_f, y_proba_train_f)\n",
    "roc_test, acu_test, prec_test, rec_test, cm_test = metrics(Y_test, y_pred_test_f, y_proba_test_f)\n",
    "print (\"AUC_Train : {0:.2%}\".format(roc_train))\n",
    "print (\"AUC_Test : {0:.2%}\".format(roc_test))\n",
    "\n",
    "print (\"\\n\" + \"Accuracy_Train : {0:.2%}\".format(acu_train))\n",
    "print (\"Precision_Train : {0:.2%}\".format(prec_train))\n",
    "print (\"Recall_Train : {0:.2%}\".format(rec_train))\n",
    "print (\"Confusion matrix: \"+\"\\n\",cm_train)\n",
    "\n",
    "print (\"\\n\" + \"Accuracy_Test : {0:.2%}\".format(acu_test))\n",
    "print (\"Precision_Test : {0:.2%}\".format(prec_test))\n",
    "print (\"Recall_Test : {0:.2%}\".format(rec_test))\n",
    "print (\"Confusion matrix: \"+\"\\n\",cm_test)"
   ]
  },
  {
   "cell_type": "markdown",
   "metadata": {},
   "source": [
    "#### Manual feature removal"
   ]
  },
  {
   "cell_type": "code",
   "execution_count": 70,
   "metadata": {},
   "outputs": [
    {
     "data": {
      "text/plain": [
       "26"
      ]
     },
     "execution_count": 70,
     "metadata": {},
     "output_type": "execute_result"
    }
   ],
   "source": [
    "same_vars = ['s_cnt_user_server_ebzweb_ch2_last_10sess','s_cnt_user_server_ebzweb_wc_last_7sess',\n",
    "'s_cnt_user_server_ebzweb_wc_last_10sess','s_cnt_user_server_ebzweb_ch2_last_5sess','s_cnt_user_server_ebzweb_ch2_last_7sess',\n",
    "'s_cnt_user_server_ebzweb_wc_last_3sess','s_affliate_telesales_last_5sess','s_affliate_telesales_last_10sess',\n",
    "'s_affliate_einstein_last_3sess','s_affliate_telesales_last_3sess','s_cnt_click_action_tv_last_7sess',\n",
    "             's_sum_time_secs_to_complete_e12toorder_last_5sess','s_sum_time_secs_to_complete_pvtoorder_last_7sess',\n",
    "'s_sum_time_secs_to_complete_pvtoorder_last_5sess','s_cnt_click_action_tv_last_5sess','s_sum_page_loadtime_last_7sess',\n",
    "'s_avg_time_secs_to_complete_pvtoorder_last_3sess','s_sum_time_secs_to_complete_e12toorder_last_7sess',\n",
    "            's_sub_section_name_my_plan_last_7sess','s_avg_page_loadtime_last_7sess','s_sum_page_loadtime_last_3sess',\n",
    "            's_avg_total_pages_visited_last_10sess','s_cnt_prev_page_0_last_7sess','s_cnt_lnk_ref_page_internet_last_3sess',\n",
    "            's_cnt_lnk_ref_page_internet_last_10sess']\n",
    "unq_vars = [x for x in redu['Var_name'] if x not in same_vars]\n",
    "len(unq_vars)"
   ]
  },
  {
   "cell_type": "code",
   "execution_count": 71,
   "metadata": {},
   "outputs": [
    {
     "name": "stdout",
     "output_type": "stream",
     "text": [
      "0:00:00.409815\n",
      "Final variables of the model are: \n",
      "                                              Var_name  Importance\n",
      "0   s_avg_time_secs_to_complete_e12toorder_last_7sess    0.125924\n",
      "1             s_cnt_user_server_ebzweb_ch2_last_3sess    0.099971\n",
      "2              s_cnt_user_server_ebzweb_wc_last_5sess    0.087533\n",
      "3   s_sum_time_secs_to_complete_pvtoorder_last_10sess    0.067855\n",
      "4    s_avg_time_secs_to_complete_pvtoorder_last_5sess    0.059892\n",
      "5              s_cnt_lnk_ref_page_internet_last_5sess    0.058880\n",
      "6   s_sum_time_secs_to_complete_e12toorder_last_3sess    0.058356\n",
      "7                      s_affliate_einstein_last_5sess    0.057842\n",
      "8                      s_avg_page_loadtime_last_3sess    0.045472\n",
      "9        s_cnt_localizn_adrs_valid_type_usps_last_10s    0.040365\n",
      "10                  s_cnt_click_action_tv_last_10sess    0.032485\n",
      "11                    s_affliate_telesales_last_7sess    0.032369\n",
      "12                     s_sum_page_loadtime_last_5sess    0.031924\n",
      "13               s_avg_total_pages_visited_last_5sess    0.031872\n",
      "14                       s_cnt_prev_page_0_last_5sess    0.026448\n",
      "15                   s_cnt_resol_len_1280_last_10sess    0.023178\n",
      "16        s_cnt_localizn_adrs_valid_type_alt_last_10s    0.018522\n",
      "17                           d_cnt_desktop_visit_l60d    0.017513\n",
      "18                   s_cnt_domain_comcast_last_10sess    0.016803\n",
      "19                     s_sum_attempt_localisation_l3d    0.014624\n",
      "20                    timespent_seconds_afternoon_l7d    0.011496\n",
      "21                           d_cnt_desktop_visit_l30d    0.010432\n",
      "22                        d_sum_paid_search_last_l60d    0.008221\n",
      "23                         num_of_pages_afternoon_l7d    0.008065\n",
      "24                     s_cnt_loc_valid_type_5sessions    0.007209\n",
      "25              s_cnt_custom_agent_windows_last_7sess    0.006753\n"
     ]
    }
   ],
   "source": [
    "# Variable selection based on random forest's variable importance\n",
    "start_time = datetime.now()\n",
    "rnf.fit(X_train[unq_vars], Y_train)\n",
    "var_imp = pd.DataFrame(list(zip(X_train[unq_vars], rnf.feature_importances_)), columns = ['Var_name', 'Importance'])\\\n",
    "            .sort_values(['Importance'], ascending = [0])    \n",
    "redu_feat = var_imp\n",
    "var_list = redu_feat['Var_name']\n",
    "print (datetime.now() - start_time)\n",
    "print (\"Final variables of the model are: \" + \"\\n\", redu_feat.reset_index(drop=True))"
   ]
  },
  {
   "cell_type": "code",
   "execution_count": 72,
   "metadata": {},
   "outputs": [
    {
     "name": "stdout",
     "output_type": "stream",
     "text": [
      "0:00:00.341655\n",
      "Final no. of categorical variables after VIF based reduction :  26\n",
      "0:00:00.329999\n",
      "Final no. of categorical variables after VIF based reduction :  25\n",
      "0:00:00.296366\n",
      "Final no. of categorical variables after VIF based reduction :  24\n",
      "0:00:00.270840\n",
      "Final no. of categorical variables after VIF based reduction :  23\n",
      "0:00:00.230228\n",
      "Final no. of categorical variables after VIF based reduction :  22\n",
      "0:00:00.115466\n",
      "Final no. of categorical variables after VIF based reduction :  21\n",
      "0:00:00.224001\n",
      "Final no. of categorical variables after VIF based reduction :  20\n",
      "0:00:00.182840\n",
      "Final no. of categorical variables after VIF based reduction :  19\n",
      "0:00:00.163614\n",
      "Final no. of categorical variables after VIF based reduction :  18\n",
      "0:00:00.145681\n",
      "Final no. of categorical variables after VIF based reduction :  17\n",
      "0:00:00.131888\n",
      "Final no. of categorical variables after VIF based reduction :  16\n",
      "0:00:00.114906\n",
      "Final no. of categorical variables after VIF based reduction :  15\n",
      "0:00:00.052895\n",
      "Final no. of categorical variables after VIF based reduction :  14\n",
      "0:00:00.081175\n",
      "Final no. of categorical variables after VIF based reduction :  13\n",
      "0:00:00.037910\n",
      "Final no. of categorical variables after VIF based reduction :  12\n",
      "0:00:00.063383\n",
      "Final no. of categorical variables after VIF based reduction :  11\n",
      "0:00:00.054416\n",
      "Final no. of categorical variables after VIF based reduction :  10\n",
      "0:00:00.044400\n",
      "Final no. of categorical variables after VIF based reduction :  9\n",
      "             VIF                                           Var_name\n",
      "0            inf        s_cnt_localizn_adrs_valid_type_alt_last_10s\n",
      "1   2.974935e+08   s_avg_time_secs_to_complete_pvtoorder_last_5sess\n",
      "2   3.720625e+07  s_avg_time_secs_to_complete_e12toorder_last_7sess\n",
      "3   6.270075e+06  s_sum_time_secs_to_complete_e12toorder_last_3sess\n",
      "4   1.255601e+06  s_sum_time_secs_to_complete_pvtoorder_last_10sess\n",
      "5   3.387158e+05                    timespent_seconds_afternoon_l7d\n",
      "6   2.785342e+02                     s_sum_page_loadtime_last_5sess\n",
      "7   4.167152e+01                           d_cnt_desktop_visit_l60d\n",
      "8   2.578635e+01                    s_affliate_telesales_last_7sess\n",
      "9   1.095553e+01       s_cnt_localizn_adrs_valid_type_usps_last_10s\n",
      "10  4.860573e+00                           d_cnt_desktop_visit_l30d\n",
      "11  4.247421e+00                       s_cnt_prev_page_0_last_5sess\n",
      "12  3.871483e+00                     s_cnt_loc_valid_type_5sessions\n",
      "13  3.261774e+00                     s_affliate_einstein_last_5sess\n",
      "14  3.022554e+00               s_avg_total_pages_visited_last_5sess\n",
      "15  2.536991e+00                         num_of_pages_afternoon_l7d\n",
      "16  2.060928e+00            s_cnt_user_server_ebzweb_ch2_last_3sess\n",
      "                                 Var_name       VIF\n",
      "0        s_cnt_resol_len_1280_last_10sess  1.997562\n",
      "1        s_cnt_domain_comcast_last_10sess  1.941052\n",
      "2   s_cnt_custom_agent_windows_last_7sess  1.877784\n",
      "3       s_cnt_click_action_tv_last_10sess  1.769640\n",
      "4             d_sum_paid_search_last_l60d  1.425508\n",
      "5  s_cnt_user_server_ebzweb_wc_last_5sess  1.381619\n",
      "6          s_sum_attempt_localisation_l3d  1.301909\n",
      "7  s_cnt_lnk_ref_page_internet_last_5sess  1.222515\n",
      "8          s_avg_page_loadtime_last_3sess  1.010602\n"
     ]
    }
   ],
   "source": [
    "x_r = X_train[redu_feat['Var_name']]\n",
    "vif_drop_var_r = []\n",
    "vif_drop_val_r = []\n",
    "\n",
    "startTime = datetime.now()\n",
    "vif_r = [variance_inflation_factor(x_r.values, ix) for ix in range(x_r.shape[1])]\n",
    "vif_cat_r = pd.concat([pd.DataFrame(x_r.columns,columns=['Var_name']), pd.DataFrame(vif_r, columns = ['VIF'])],axis=1)\n",
    "vif_cat_r = vif_cat_r.sort_values('VIF', ascending=0).reset_index(drop=True)\n",
    "print (datetime.now() - startTime)\n",
    "print (\"Final no. of categorical variables after VIF based reduction : \", len(vif_cat_r))\n",
    "\n",
    "while (vif_cat_r['VIF'][0] >=2):\n",
    "    x_r = X_train[redu_feat['Var_name']]\n",
    "    vif_drop_var_r.append(vif_cat_r['Var_name'][0])\n",
    "    vif_drop_val_r.append(vif_cat_r['VIF'][0])\n",
    "    x_r = x_r.drop(vif_drop_var_r, axis = 1)\n",
    "\n",
    "    startTime = datetime.now()\n",
    "    vif_r = [variance_inflation_factor(x_r.values, ix) for ix in range(x_r.shape[1])]\n",
    "    vif_cat_r = pd.concat([pd.DataFrame(x_r.columns, columns = ['Var_name']), pd.DataFrame(vif_r, columns = ['VIF'])],axis=1)\n",
    "    vif_cat_r = vif_cat_r.sort_values('VIF', ascending=0).reset_index(drop=True)\n",
    "    print (datetime.now() - startTime)\n",
    "    print (\"Final no. of categorical variables after VIF based reduction : \", len(vif_cat_r))\n",
    "    \n",
    "    vif_drop_r = pd.DataFrame({'VIF':vif_drop_val_r,'Var_name':vif_drop_var_r})\n",
    "    \n",
    "\n",
    "print(vif_drop_r)\n",
    "print(vif_cat_r)"
   ]
  },
  {
   "cell_type": "code",
   "execution_count": 73,
   "metadata": {},
   "outputs": [
    {
     "name": "stdout",
     "output_type": "stream",
     "text": [
      "KS_Train :  22.76\n",
      "KS_Test :  19.42\n"
     ]
    }
   ],
   "source": [
    "clf = RandomForestClassifier(n_estimators=50, max_depth=2,max_features='sqrt',n_jobs=-1,random_state=72)\n",
    "#clf = RandomForestClassifier(n_estimators=60, criterion='gini', max_depth=5, min_samples_split=2, min_samples_leaf=2,\n",
    "                            #max_features='auto', max_leaf_nodes=2, random_state=99)\n",
    "#clf_rf_r = clf.fit(X_train[redu_feat['Var_name']], Y_train)\n",
    "clf_rf_r = clf.fit(X_train[vif_cat_r['Var_name']], Y_train)\n",
    "\n",
    "y_pred_train_f, y_proba_train_f, ks_train_r, dec_train_f = out_ks(X_train[vif_cat_r['Var_name']], Y_train, clf_rf_r, target)\n",
    "y_pred_test_f, y_proba_test_f, ks_test_r, dec_test_f = out_ks(X_test[vif_cat_r['Var_name']], Y_test, clf_rf_r, target)\n",
    "\n",
    "\n",
    "print (\"KS_Train : \", round(ks_train_r,2))\n",
    "print (\"KS_Test : \", round(ks_test_r,2))"
   ]
  },
  {
   "cell_type": "code",
   "execution_count": 74,
   "metadata": {},
   "outputs": [
    {
     "name": "stdout",
     "output_type": "stream",
     "text": [
      "AUC_Train : 65.72%\n",
      "AUC_Test : 63.87%\n",
      "\n",
      "Accuracy_Train : 60.31%\n",
      "Precision_Train : 62.53%\n",
      "Recall_Train : 46.23%\n",
      "Confusion matrix: \n",
      " [[997 356]\n",
      " [691 594]]\n",
      "\n",
      "Accuracy_Test : 61.52%\n",
      "Precision_Test : 58.45%\n",
      "Recall_Test : 43.99%\n",
      "Confusion matrix: \n",
      " [[278  91]\n",
      " [163 128]]\n"
     ]
    }
   ],
   "source": [
    "roc_train, acu_train, prec_train, rec_train, cm_train = metrics(Y_train, y_pred_train_f, y_proba_train_f)\n",
    "roc_test, acu_test, prec_test, rec_test, cm_test = metrics(Y_test, y_pred_test_f, y_proba_test_f)\n",
    "print (\"AUC_Train : {0:.2%}\".format(roc_train))\n",
    "print (\"AUC_Test : {0:.2%}\".format(roc_test))\n",
    "\n",
    "print (\"\\n\" + \"Accuracy_Train : {0:.2%}\".format(acu_train))\n",
    "print (\"Precision_Train : {0:.2%}\".format(prec_train))\n",
    "print (\"Recall_Train : {0:.2%}\".format(rec_train))\n",
    "print (\"Confusion matrix: \"+\"\\n\",cm_train)\n",
    "\n",
    "print (\"\\n\" + \"Accuracy_Test : {0:.2%}\".format(acu_test))\n",
    "print (\"Precision_Test : {0:.2%}\".format(prec_test))\n",
    "print (\"Recall_Test : {0:.2%}\".format(rec_test))\n",
    "print (\"Confusion matrix: \"+\"\\n\",cm_test)"
   ]
  },
  {
   "cell_type": "code",
   "execution_count": 75,
   "metadata": {},
   "outputs": [],
   "source": [
    "df_dev = dev.copy()\n",
    "for x in df_dev.columns:\n",
    "    try:\n",
    "        df_dev[x] = df_dev[x].astype(float)\n",
    "    except:\n",
    "        continue\n",
    "df_dev[target] = df_dev[target].astype('int')"
   ]
  },
  {
   "cell_type": "markdown",
   "metadata": {},
   "source": [
    "### Validation"
   ]
  },
  {
   "cell_type": "code",
   "execution_count": 76,
   "metadata": {},
   "outputs": [],
   "source": [
    "df_val = val.copy()\n",
    "for x in df_val.columns:\n",
    "    try:\n",
    "        df_val[x] = df_val[x].astype(float)\n",
    "    except:\n",
    "        continue\n",
    "#df_val[target] = df_val[target].astype('int')"
   ]
  },
  {
   "cell_type": "code",
   "execution_count": 77,
   "metadata": {},
   "outputs": [],
   "source": [
    "enc_map, woe_map  = [], []\n",
    "inp_val = datamap(df_val, vif_cat_f, enc_map, woe_map)\n",
    "final_data_val = pd.concat([inp_val, pd.DataFrame(df_val[target])], axis = 1)\n",
    "\n",
    "X_val = final_data_val[vif_cat_f['Var_name']]\n",
    "Y_val = final_data_val[target]\n",
    "\n",
    "inp_val_f = datamap(df_val, vif_cat_f, enc_map, woe_map)\n",
    "final_data_val_f = pd.concat([inp_val_f, pd.DataFrame(df_val[target])], axis = 1)\n",
    "\n",
    "X_val_f = final_data_val_f[vif_cat_f['Var_name']]\n",
    "Y_val_f = final_data_val_f[target]"
   ]
  },
  {
   "cell_type": "code",
   "execution_count": 78,
   "metadata": {},
   "outputs": [
    {
     "name": "stdout",
     "output_type": "stream",
     "text": [
      "\r\n",
      " All 50 variables\n",
      "KS_VAL:  20.0\n",
      "AUC_VAL : 63.43%\n",
      "\n",
      "Accuracy_VAL : 60.12%\n",
      "Precision_VAL : 62.75%\n",
      "Recall_VAL : 46.17%\n",
      "Confusion matrix: \n",
      " [[309 111]\n",
      " [218 187]]\n"
     ]
    }
   ],
   "source": [
    "inp_val_r = datamap(df_val, vif_cat_r, enc_map, woe_map)\n",
    "final_data_val_r = pd.concat([inp_val_r, pd.DataFrame(df_val[target])], axis = 1)\n",
    "\n",
    "X_val_r = final_data_val_r[vif_cat_r['Var_name']]\n",
    "Y_val_r = final_data_val_r[target]\n",
    "\n",
    "y_pred_val, y_proba_val, ks_val, dec_val = out_ks(X_val_r, Y_val_r, clf_rf_r, target)\n",
    "\n",
    "print (\"\\r\\n All 50 variables\")\n",
    "print(\"KS_VAL: \", round(ks_val))\n",
    "\n",
    "roc_val, acu_val, prec_val, rec_val, cm_val = metrics(Y_val_r, y_pred_val, y_proba_val)\n",
    "print (\"AUC_VAL : {0:.2%}\".format(roc_val))\n",
    "print (\"\\n\" + \"Accuracy_VAL : {0:.2%}\".format(acu_val))\n",
    "print (\"Precision_VAL : {0:.2%}\".format(prec_val))\n",
    "print (\"Recall_VAL : {0:.2%}\".format(rec_val))\n",
    "print (\"Confusion matrix: \"+\"\\n\",cm_val)"
   ]
  },
  {
   "cell_type": "code",
   "execution_count": 81,
   "metadata": {},
   "outputs": [],
   "source": [
    "# y_pred_val, y_proba_val, ks_val, dec_val = out_ks(X_val, Y_val, clf_lr_u, target)\n",
    "# print (\"KS_VAL: \", round(ks_val))\n",
    "\n",
    "# roc_val, acu_val, prec_val, rec_val, cm_val = metrics(Y_val, y_pred_val, y_proba_val)\n",
    "# print (\"AUC_VAL : {0:.2%}\".format(roc_val))\n",
    "# print (\"\\n\" + \"Accuracy_VAL : {0:.2%}\".format(acu_val))\n",
    "# print (\"Precision_VAL : {0:.2%}\".format(prec_val))\n",
    "# print (\"Recall_VAL : {0:.2%}\".format(rec_val))\n",
    "# print (\"Confusion matrix: \"+\"\\n\",cm_val)\n",
    "\n",
    "# y_pred_val, y_proba_val, ks_val, dec_val = out_ks(X_val_f, Y_val_f, clf_lr_f, target)\n",
    "# print (\"KS_VAL: \", round(ks_val))\n",
    "\n",
    "# roc_val, acu_val, prec_val, rec_val, cm_val = metrics(Y_val_f, y_pred_val, y_proba_val)\n",
    "# print (\"AUC_VAL : {0:.2%}\".format(roc_val))\n",
    "# print (\"\\n\" + \"Accuracy_VAL : {0:.2%}\".format(acu_val))\n",
    "# print (\"Precision_VAL : {0:.2%}\".format(prec_val))\n",
    "# print (\"Recall_VAL : {0:.2%}\".format(rec_val))\n",
    "# print (\"Confusion matrix: \"+\"\\n\",cm_val)"
   ]
  },
  {
   "cell_type": "code",
   "execution_count": 99,
   "metadata": {},
   "outputs": [
    {
     "name": "stdout",
     "output_type": "stream",
     "text": [
      "\r\n",
      " *** Validation Results ***\n",
      "KS_VAL:  22.0\n",
      "AUC_VAL : 64.00%\n",
      "\n",
      "Accuracy_VAL : 61.58%\n",
      "Precision_VAL : 64.10%\n",
      "Recall_VAL : 49.38%\n",
      "Confusion matrix: \n",
      " [[ 0.73  0.27]\n",
      " [ 0.51  0.49]]\n"
     ]
    }
   ],
   "source": [
    "# y_pred_val, y_proba_val, ks_val, dec_val = out_ks(X_val, Y_val, clf_rf_u, target)\n",
    "# print (\"KS_VAL: \", round(ks_val))\n",
    "\n",
    "# roc_val, acu_val, prec_val, rec_val, cm_val = metrics(Y_val, y_pred_val, y_proba_val)\n",
    "# print (\"AUC_VAL : {0:.2%}\".format(roc_val))\n",
    "# print (\"\\n\" + \"Accuracy_VAL : {0:.2%}\".format(acu_val))\n",
    "# print (\"Precision_VAL : {0:.2%}\".format(prec_val))\n",
    "# print (\"Recall_VAL : {0:.2%}\".format(rec_val))\n",
    "# print (\"Confusion matrix: \"+\"\\n\",cm_val)\n",
    "\n",
    "y_pred_val, y_proba_val, ks_val, dec_val = out_ks(X_val_f, Y_val_f, clf_rf_f, target)\n",
    "\n",
    "print (\"\\r\\n *** Validation Results ***\")\n",
    "print(\"KS_VAL: \", round(ks_val))\n",
    "\n",
    "roc_val, acu_val, prec_val, rec_val, cm_val = metrics(Y_val_f, y_pred_val, y_proba_val)\n",
    "print (\"AUC_VAL : {0:.2%}\".format(roc_val))\n",
    "print (\"\\n\" + \"Accuracy_VAL : {0:.2%}\".format(acu_val))\n",
    "print (\"Precision_VAL : {0:.2%}\".format(prec_val))\n",
    "print (\"Recall_VAL : {0:.2%}\".format(rec_val))\n",
    "print (\"Confusion matrix: \"+\"\\n\",cm_val/cm_val.sum(axis=1)[:,newaxis])"
   ]
  },
  {
   "cell_type": "code",
   "execution_count": 84,
   "metadata": {},
   "outputs": [
    {
     "data": {
      "text/plain": [
       "(0.7559661058183752, 0.74604231817894784, 0.92084133026033843)"
      ]
     },
     "execution_count": 84,
     "metadata": {},
     "output_type": "execute_result"
    }
   ],
   "source": [
    "y_proba_train.max(), y_proba_test.max(), y_proba_val.max()"
   ]
  },
  {
   "cell_type": "code",
   "execution_count": 85,
   "metadata": {},
   "outputs": [
    {
     "data": {
      "text/html": [
       "<div>\n",
       "<style>\n",
       "    .dataframe thead tr:only-child th {\n",
       "        text-align: right;\n",
       "    }\n",
       "\n",
       "    .dataframe thead th {\n",
       "        text-align: left;\n",
       "    }\n",
       "\n",
       "    .dataframe tbody tr th {\n",
       "        vertical-align: top;\n",
       "    }\n",
       "</style>\n",
       "<table border=\"1\" class=\"dataframe\">\n",
       "  <thead>\n",
       "    <tr style=\"text-align: right;\">\n",
       "      <th></th>\n",
       "      <th>Var_name</th>\n",
       "      <th>VIF</th>\n",
       "    </tr>\n",
       "  </thead>\n",
       "  <tbody>\n",
       "    <tr>\n",
       "      <th>1</th>\n",
       "      <td>s_affliate_telesales_last_3sess</td>\n",
       "      <td>1.797363</td>\n",
       "    </tr>\n",
       "    <tr>\n",
       "      <th>2</th>\n",
       "      <td>s_cnt_custom_agent_windows_last_7sess</td>\n",
       "      <td>1.786870</td>\n",
       "    </tr>\n",
       "    <tr>\n",
       "      <th>3</th>\n",
       "      <td>s_cnt_click_action_tv_last_5sess</td>\n",
       "      <td>1.657223</td>\n",
       "    </tr>\n",
       "    <tr>\n",
       "      <th>4</th>\n",
       "      <td>d_sum_paid_search_last_l60d</td>\n",
       "      <td>1.448976</td>\n",
       "    </tr>\n",
       "    <tr>\n",
       "      <th>5</th>\n",
       "      <td>s_cnt_user_server_ebzweb_wc_last_10sess</td>\n",
       "      <td>1.374040</td>\n",
       "    </tr>\n",
       "    <tr>\n",
       "      <th>6</th>\n",
       "      <td>s_sum_attempt_localisation_l3d</td>\n",
       "      <td>1.341238</td>\n",
       "    </tr>\n",
       "    <tr>\n",
       "      <th>7</th>\n",
       "      <td>s_cnt_lnk_ref_page_internet_last_3sess</td>\n",
       "      <td>1.231239</td>\n",
       "    </tr>\n",
       "    <tr>\n",
       "      <th>8</th>\n",
       "      <td>s_sum_page_loadtime_last_3sess</td>\n",
       "      <td>1.010045</td>\n",
       "    </tr>\n",
       "  </tbody>\n",
       "</table>\n",
       "</div>"
      ],
      "text/plain": [
       "                                  Var_name       VIF\n",
       "1          s_affliate_telesales_last_3sess  1.797363\n",
       "2    s_cnt_custom_agent_windows_last_7sess  1.786870\n",
       "3         s_cnt_click_action_tv_last_5sess  1.657223\n",
       "4              d_sum_paid_search_last_l60d  1.448976\n",
       "5  s_cnt_user_server_ebzweb_wc_last_10sess  1.374040\n",
       "6           s_sum_attempt_localisation_l3d  1.341238\n",
       "7   s_cnt_lnk_ref_page_internet_last_3sess  1.231239\n",
       "8           s_sum_page_loadtime_last_3sess  1.010045"
      ]
     },
     "execution_count": 85,
     "metadata": {},
     "output_type": "execute_result"
    }
   ],
   "source": [
    "### Final ###\n",
    "vif_cat_f"
   ]
  },
  {
   "cell_type": "code",
   "execution_count": 86,
   "metadata": {},
   "outputs": [
    {
     "data": {
      "text/plain": [
       "0.0    0.512889\n",
       "1.0    0.487111\n",
       "Name: vid_tiers_target, dtype: float64"
      ]
     },
     "execution_count": 86,
     "metadata": {},
     "output_type": "execute_result"
    }
   ],
   "source": [
    "Y_train.value_counts()/Y_train.shape[0]"
   ]
  },
  {
   "cell_type": "code",
   "execution_count": 87,
   "metadata": {},
   "outputs": [
    {
     "data": {
      "text/plain": [
       "0.0    0.639879\n",
       "1.0    0.360121\n",
       "Name: Pred, dtype: float64"
      ]
     },
     "execution_count": 87,
     "metadata": {},
     "output_type": "execute_result"
    }
   ],
   "source": [
    "y_pred_train_f.value_counts()/y_pred_train_f.shape[0]"
   ]
  },
  {
   "cell_type": "code",
   "execution_count": 88,
   "metadata": {},
   "outputs": [
    {
     "data": {
      "text/plain": [
       "0.0    0.559091\n",
       "1.0    0.440909\n",
       "Name: vid_tiers_target, dtype: float64"
      ]
     },
     "execution_count": 88,
     "metadata": {},
     "output_type": "execute_result"
    }
   ],
   "source": [
    "Y_test.value_counts()/Y_test.shape[0]"
   ]
  },
  {
   "cell_type": "code",
   "execution_count": 89,
   "metadata": {},
   "outputs": [
    {
     "data": {
      "text/plain": [
       "0.0    0.668182\n",
       "1.0    0.331818\n",
       "Name: Pred, dtype: float64"
      ]
     },
     "execution_count": 89,
     "metadata": {},
     "output_type": "execute_result"
    }
   ],
   "source": [
    "y_pred_test_f.value_counts()/y_pred_test_f.shape[0]"
   ]
  },
  {
   "cell_type": "code",
   "execution_count": 90,
   "metadata": {},
   "outputs": [
    {
     "data": {
      "text/plain": [
       "0.0    0.509091\n",
       "1.0    0.490909\n",
       "Name: vid_tiers_target, dtype: float64"
      ]
     },
     "execution_count": 90,
     "metadata": {},
     "output_type": "execute_result"
    }
   ],
   "source": [
    "Y_val.value_counts()/Y_val.shape[0]"
   ]
  },
  {
   "cell_type": "code",
   "execution_count": 91,
   "metadata": {},
   "outputs": [
    {
     "data": {
      "text/plain": [
       "0.0    0.621818\n",
       "1.0    0.378182\n",
       "Name: Pred, dtype: float64"
      ]
     },
     "execution_count": 91,
     "metadata": {},
     "output_type": "execute_result"
    }
   ],
   "source": [
    "y_pred_val.value_counts()/y_pred_val.shape[0]"
   ]
  },
  {
   "cell_type": "markdown",
   "metadata": {},
   "source": [
    "#### Division Results"
   ]
  },
  {
   "cell_type": "code",
   "execution_count": 92,
   "metadata": {},
   "outputs": [
    {
     "name": "stdout",
     "output_type": "stream",
     "text": [
      "**Central Division**\n",
      "KS :  16.1499418699\n",
      "AUC_VAL : 59.64%\n",
      "\n",
      "Accuracy_VAL : 61.73%\n",
      "Precision_VAL : 48.06%\n",
      "Recall_VAL : 43.49%\n",
      "Confusion matrix: \n",
      " [[1090  415]\n",
      " [ 499  384]]\n"
     ]
    }
   ],
   "source": [
    "inp_val_c = datamap(full_df[full_df['division']==\"CENTRAL DIVISION\"], vif_cat_f, enc_map, woe_map)\n",
    "final_data_val_c = pd.concat([inp_val_c, pd.DataFrame(full_df[full_df['division']==\"CENTRAL DIVISION\"][target])],axis = 1)\n",
    "\n",
    "X_val_c = final_data_val_c[vif_cat_f['Var_name']]\n",
    "Y_val_c = final_data_val_c[target]\n",
    "\n",
    "y_pred_val, y_proba_val, ks_val, dec_val = out_ks(X_val_c, Y_val_c, clf_rf_f, target)\n",
    "\n",
    "print(\"**Central Division**\")\n",
    "print(\"KS : \",ks_val)\n",
    "\n",
    "roc_val, acu_val, prec_val, rec_val, cm_val = metrics(Y_val_c, y_pred_val, y_proba_val)\n",
    "print (\"AUC_VAL : {0:.2%}\".format(roc_val))\n",
    "print (\"\\n\" + \"Accuracy_VAL : {0:.2%}\".format(acu_val))\n",
    "print (\"Precision_VAL : {0:.2%}\".format(prec_val))\n",
    "print (\"Recall_VAL : {0:.2%}\".format(rec_val))\n",
    "print (\"Confusion matrix: \"+\"\\n\",cm_val)"
   ]
  },
  {
   "cell_type": "code",
   "execution_count": 93,
   "metadata": {},
   "outputs": [
    {
     "name": "stdout",
     "output_type": "stream",
     "text": [
      "**West Division**\n",
      "KS :  24.9527383931\n",
      "AUC_VAL : 65.69%\n",
      "\n",
      "Accuracy_VAL : 65.41%\n",
      "Precision_VAL : 90.20%\n",
      "Recall_VAL : 66.97%\n"
     ]
    }
   ],
   "source": [
    "inp_val_w = datamap(full_df[full_df['division']==\"WEST DIVISION\"], vif_cat_f, enc_map, woe_map)\n",
    "final_data_val_w = pd.concat([inp_val_w, pd.DataFrame(full_df[full_df['division']==\"WEST DIVISION\"][target])], axis = 1)\n",
    "\n",
    "X_val_w = final_data_val_w[vif_cat_f['Var_name']]\n",
    "Y_val_w = final_data_val_w[target]\n",
    "\n",
    "y_pred_val, y_proba_val, ks_val, dec_val = out_ks(X_val_w, Y_val_w, clf_rf_f, target)\n",
    "print(\"**West Division**\")\n",
    "print(\"KS : \",ks_val)\n",
    "\n",
    "roc_val, acu_val, prec_val, rec_val, cm_val = metrics(Y_val_w, y_pred_val, y_proba_val)\n",
    "print (\"AUC_VAL : {0:.2%}\".format(roc_val))\n",
    "print (\"\\n\" + \"Accuracy_VAL : {0:.2%}\".format(acu_val))\n",
    "print (\"Precision_VAL : {0:.2%}\".format(prec_val))\n",
    "print (\"Recall_VAL : {0:.2%}\".format(rec_val))\n",
    "#print (\"Confusion matrix: \"+\"\\n\",cm_val)"
   ]
  },
  {
   "cell_type": "code",
   "execution_count": 94,
   "metadata": {},
   "outputs": [
    {
     "name": "stdout",
     "output_type": "stream",
     "text": [
      "**Northeast Division**\n",
      "KS :  12.0958751394\n",
      "AUC_VAL : 52.31%\n",
      "\n",
      "Accuracy_VAL : 50.41%\n",
      "Precision_VAL : 38.89%\n",
      "Recall_VAL : 26.92%\n"
     ]
    }
   ],
   "source": [
    "inp_val_n = datamap(full_df[full_df['division']==\"NORTHEAST DIVISION\"], vif_cat_f, enc_map, woe_map)\n",
    "final_data_val_n = pd.concat([inp_val_n, pd.DataFrame(full_df[full_df['division']==\"NORTHEAST DIVISION\"][target])], axis = 1)\n",
    "\n",
    "X_val_n = final_data_val_n[vif_cat_f['Var_name']]\n",
    "Y_val_n = final_data_val_n[target]\n",
    "\n",
    "y_pred_val, y_proba_val, ks_val, dec_val = out_ks(X_val_n, Y_val_n, clf_rf_f, target)\n",
    "print(\"**Northeast Division**\")\n",
    "print(\"KS : \",ks_val)\n",
    "\n",
    "roc_val, acu_val, prec_val, rec_val, cm_val = metrics(Y_val_n, y_pred_val, y_proba_val)\n",
    "print (\"AUC_VAL : {0:.2%}\".format(roc_val))\n",
    "print (\"\\n\" + \"Accuracy_VAL : {0:.2%}\".format(acu_val))\n",
    "print (\"Precision_VAL : {0:.2%}\".format(prec_val))\n",
    "print (\"Recall_VAL : {0:.2%}\".format(rec_val))\n",
    "#print (\"Confusion matrix: \"+\"\\n\",cm_val)\n"
   ]
  },
  {
   "cell_type": "markdown",
   "metadata": {},
   "source": [
    "###### Dumping into pickles for scoring"
   ]
  },
  {
   "cell_type": "raw",
   "metadata": {},
   "source": [
    "# for real scoring\n",
    "#l = [enc_map, woe_map, vif_cat1, clf_rf_dev]\n",
    "l = [vif_cat_f, clf_rf_f]\n",
    "\n",
    "joblib.dump(l, '/home/pbojja200/notebooks/Digital/PML_P2/Pickles/vid_tiers_no_domain.pkl')"
   ]
  },
  {
   "cell_type": "code",
   "execution_count": 96,
   "metadata": {},
   "outputs": [],
   "source": [
    "fv,c = joblib.load('Pickles/vid_tiers_no_domain.pkl')"
   ]
  },
  {
   "cell_type": "code",
   "execution_count": 97,
   "metadata": {},
   "outputs": [
    {
     "data": {
      "text/html": [
       "<div>\n",
       "<style>\n",
       "    .dataframe thead tr:only-child th {\n",
       "        text-align: right;\n",
       "    }\n",
       "\n",
       "    .dataframe thead th {\n",
       "        text-align: left;\n",
       "    }\n",
       "\n",
       "    .dataframe tbody tr th {\n",
       "        vertical-align: top;\n",
       "    }\n",
       "</style>\n",
       "<table border=\"1\" class=\"dataframe\">\n",
       "  <thead>\n",
       "    <tr style=\"text-align: right;\">\n",
       "      <th></th>\n",
       "      <th>Var_name</th>\n",
       "      <th>VIF</th>\n",
       "    </tr>\n",
       "  </thead>\n",
       "  <tbody>\n",
       "    <tr>\n",
       "      <th>1</th>\n",
       "      <td>s_affliate_telesales_last_3sess</td>\n",
       "      <td>1.797363</td>\n",
       "    </tr>\n",
       "    <tr>\n",
       "      <th>2</th>\n",
       "      <td>s_cnt_custom_agent_windows_last_7sess</td>\n",
       "      <td>1.786870</td>\n",
       "    </tr>\n",
       "    <tr>\n",
       "      <th>3</th>\n",
       "      <td>s_cnt_click_action_tv_last_5sess</td>\n",
       "      <td>1.657223</td>\n",
       "    </tr>\n",
       "    <tr>\n",
       "      <th>4</th>\n",
       "      <td>d_sum_paid_search_last_l60d</td>\n",
       "      <td>1.448976</td>\n",
       "    </tr>\n",
       "    <tr>\n",
       "      <th>5</th>\n",
       "      <td>s_cnt_user_server_ebzweb_wc_last_10sess</td>\n",
       "      <td>1.374040</td>\n",
       "    </tr>\n",
       "    <tr>\n",
       "      <th>6</th>\n",
       "      <td>s_sum_attempt_localisation_l3d</td>\n",
       "      <td>1.341238</td>\n",
       "    </tr>\n",
       "    <tr>\n",
       "      <th>7</th>\n",
       "      <td>s_cnt_lnk_ref_page_internet_last_3sess</td>\n",
       "      <td>1.231239</td>\n",
       "    </tr>\n",
       "    <tr>\n",
       "      <th>8</th>\n",
       "      <td>s_sum_page_loadtime_last_3sess</td>\n",
       "      <td>1.010045</td>\n",
       "    </tr>\n",
       "  </tbody>\n",
       "</table>\n",
       "</div>"
      ],
      "text/plain": [
       "                                  Var_name       VIF\n",
       "1          s_affliate_telesales_last_3sess  1.797363\n",
       "2    s_cnt_custom_agent_windows_last_7sess  1.786870\n",
       "3         s_cnt_click_action_tv_last_5sess  1.657223\n",
       "4              d_sum_paid_search_last_l60d  1.448976\n",
       "5  s_cnt_user_server_ebzweb_wc_last_10sess  1.374040\n",
       "6           s_sum_attempt_localisation_l3d  1.341238\n",
       "7   s_cnt_lnk_ref_page_internet_last_3sess  1.231239\n",
       "8           s_sum_page_loadtime_last_3sess  1.010045"
      ]
     },
     "execution_count": 97,
     "metadata": {},
     "output_type": "execute_result"
    }
   ],
   "source": [
    "fv"
   ]
  },
  {
   "cell_type": "code",
   "execution_count": 100,
   "metadata": {},
   "outputs": [
    {
     "data": {
      "text/html": [
       "<div>\n",
       "<style>\n",
       "    .dataframe thead tr:only-child th {\n",
       "        text-align: right;\n",
       "    }\n",
       "\n",
       "    .dataframe thead th {\n",
       "        text-align: left;\n",
       "    }\n",
       "\n",
       "    .dataframe tbody tr th {\n",
       "        vertical-align: top;\n",
       "    }\n",
       "</style>\n",
       "<table border=\"1\" class=\"dataframe\">\n",
       "  <thead>\n",
       "    <tr style=\"text-align: right;\">\n",
       "      <th></th>\n",
       "      <th>Decile</th>\n",
       "      <th>Count</th>\n",
       "      <th>Target</th>\n",
       "      <th>Non_Target</th>\n",
       "      <th>Prob_Target</th>\n",
       "      <th>1_pct</th>\n",
       "      <th>0_pct</th>\n",
       "      <th>1_cum</th>\n",
       "      <th>0_cum</th>\n",
       "      <th>KS</th>\n",
       "    </tr>\n",
       "  </thead>\n",
       "  <tbody>\n",
       "    <tr>\n",
       "      <th>0</th>\n",
       "      <td>1</td>\n",
       "      <td>264</td>\n",
       "      <td>196</td>\n",
       "      <td>68</td>\n",
       "      <td>166.658481</td>\n",
       "      <td>15.252918</td>\n",
       "      <td>5.025868</td>\n",
       "      <td>15.2529</td>\n",
       "      <td>5.02587</td>\n",
       "      <td>10.227</td>\n",
       "    </tr>\n",
       "    <tr>\n",
       "      <th>1</th>\n",
       "      <td>2</td>\n",
       "      <td>258</td>\n",
       "      <td>162</td>\n",
       "      <td>96</td>\n",
       "      <td>142.544091</td>\n",
       "      <td>12.607004</td>\n",
       "      <td>7.095344</td>\n",
       "      <td>27.8599</td>\n",
       "      <td>12.1212</td>\n",
       "      <td>15.7387</td>\n",
       "    </tr>\n",
       "    <tr>\n",
       "      <th>2</th>\n",
       "      <td>3</td>\n",
       "      <td>267</td>\n",
       "      <td>159</td>\n",
       "      <td>108</td>\n",
       "      <td>141.033536</td>\n",
       "      <td>12.373541</td>\n",
       "      <td>7.982262</td>\n",
       "      <td>40.2335</td>\n",
       "      <td>20.1035</td>\n",
       "      <td>20.13</td>\n",
       "    </tr>\n",
       "    <tr>\n",
       "      <th>3</th>\n",
       "      <td>4</td>\n",
       "      <td>266</td>\n",
       "      <td>145</td>\n",
       "      <td>121</td>\n",
       "      <td>135.544337</td>\n",
       "      <td>11.284047</td>\n",
       "      <td>8.943089</td>\n",
       "      <td>51.5175</td>\n",
       "      <td>29.0466</td>\n",
       "      <td>22.4709</td>\n",
       "    </tr>\n",
       "    <tr>\n",
       "      <th>4</th>\n",
       "      <td>5</td>\n",
       "      <td>262</td>\n",
       "      <td>127</td>\n",
       "      <td>135</td>\n",
       "      <td>128.253103</td>\n",
       "      <td>9.883268</td>\n",
       "      <td>9.977827</td>\n",
       "      <td>61.4008</td>\n",
       "      <td>39.0244</td>\n",
       "      <td>22.3764</td>\n",
       "    </tr>\n",
       "    <tr>\n",
       "      <th>5</th>\n",
       "      <td>6</td>\n",
       "      <td>230</td>\n",
       "      <td>114</td>\n",
       "      <td>116</td>\n",
       "      <td>110.357704</td>\n",
       "      <td>8.871595</td>\n",
       "      <td>8.573540</td>\n",
       "      <td>70.2724</td>\n",
       "      <td>47.5979</td>\n",
       "      <td>22.6744</td>\n",
       "    </tr>\n",
       "    <tr>\n",
       "      <th>6</th>\n",
       "      <td>7</td>\n",
       "      <td>297</td>\n",
       "      <td>120</td>\n",
       "      <td>177</td>\n",
       "      <td>139.336873</td>\n",
       "      <td>9.338521</td>\n",
       "      <td>13.082040</td>\n",
       "      <td>79.6109</td>\n",
       "      <td>60.68</td>\n",
       "      <td>18.9309</td>\n",
       "    </tr>\n",
       "    <tr>\n",
       "      <th>7</th>\n",
       "      <td>8</td>\n",
       "      <td>266</td>\n",
       "      <td>106</td>\n",
       "      <td>160</td>\n",
       "      <td>117.600954</td>\n",
       "      <td>8.249027</td>\n",
       "      <td>11.825573</td>\n",
       "      <td>87.8599</td>\n",
       "      <td>72.5055</td>\n",
       "      <td>15.3544</td>\n",
       "    </tr>\n",
       "    <tr>\n",
       "      <th>8</th>\n",
       "      <td>9</td>\n",
       "      <td>262</td>\n",
       "      <td>93</td>\n",
       "      <td>169</td>\n",
       "      <td>109.585745</td>\n",
       "      <td>7.237354</td>\n",
       "      <td>12.490761</td>\n",
       "      <td>95.0973</td>\n",
       "      <td>84.9963</td>\n",
       "      <td>10.101</td>\n",
       "    </tr>\n",
       "    <tr>\n",
       "      <th>9</th>\n",
       "      <td>10</td>\n",
       "      <td>266</td>\n",
       "      <td>63</td>\n",
       "      <td>203</td>\n",
       "      <td>101.409840</td>\n",
       "      <td>4.902724</td>\n",
       "      <td>15.003695</td>\n",
       "      <td>100</td>\n",
       "      <td>100</td>\n",
       "      <td>1.42109e-14</td>\n",
       "    </tr>\n",
       "  </tbody>\n",
       "</table>\n",
       "</div>"
      ],
      "text/plain": [
       "   Decile  Count  Target  Non_Target  Prob_Target      1_pct      0_pct  \\\n",
       "0       1    264     196          68   166.658481  15.252918   5.025868   \n",
       "1       2    258     162          96   142.544091  12.607004   7.095344   \n",
       "2       3    267     159         108   141.033536  12.373541   7.982262   \n",
       "3       4    266     145         121   135.544337  11.284047   8.943089   \n",
       "4       5    262     127         135   128.253103   9.883268   9.977827   \n",
       "5       6    230     114         116   110.357704   8.871595   8.573540   \n",
       "6       7    297     120         177   139.336873   9.338521  13.082040   \n",
       "7       8    266     106         160   117.600954   8.249027  11.825573   \n",
       "8       9    262      93         169   109.585745   7.237354  12.490761   \n",
       "9      10    266      63         203   101.409840   4.902724  15.003695   \n",
       "\n",
       "     1_cum    0_cum           KS  \n",
       "0  15.2529  5.02587       10.227  \n",
       "1  27.8599  12.1212      15.7387  \n",
       "2  40.2335  20.1035        20.13  \n",
       "3  51.5175  29.0466      22.4709  \n",
       "4  61.4008  39.0244      22.3764  \n",
       "5  70.2724  47.5979      22.6744  \n",
       "6  79.6109    60.68      18.9309  \n",
       "7  87.8599  72.5055      15.3544  \n",
       "8  95.0973  84.9963       10.101  \n",
       "9      100      100  1.42109e-14  "
      ]
     },
     "execution_count": 100,
     "metadata": {},
     "output_type": "execute_result"
    }
   ],
   "source": [
    "dec_train_f"
   ]
  },
  {
   "cell_type": "code",
   "execution_count": 101,
   "metadata": {},
   "outputs": [
    {
     "data": {
      "text/html": [
       "<div>\n",
       "<style>\n",
       "    .dataframe thead tr:only-child th {\n",
       "        text-align: right;\n",
       "    }\n",
       "\n",
       "    .dataframe thead th {\n",
       "        text-align: left;\n",
       "    }\n",
       "\n",
       "    .dataframe tbody tr th {\n",
       "        vertical-align: top;\n",
       "    }\n",
       "</style>\n",
       "<table border=\"1\" class=\"dataframe\">\n",
       "  <thead>\n",
       "    <tr style=\"text-align: right;\">\n",
       "      <th></th>\n",
       "      <th>Decile</th>\n",
       "      <th>Count</th>\n",
       "      <th>Target</th>\n",
       "      <th>Non_Target</th>\n",
       "      <th>Prob_Target</th>\n",
       "      <th>1_pct</th>\n",
       "      <th>0_pct</th>\n",
       "      <th>1_cum</th>\n",
       "      <th>0_cum</th>\n",
       "      <th>KS</th>\n",
       "    </tr>\n",
       "  </thead>\n",
       "  <tbody>\n",
       "    <tr>\n",
       "      <th>0</th>\n",
       "      <td>1</td>\n",
       "      <td>66</td>\n",
       "      <td>41</td>\n",
       "      <td>25</td>\n",
       "      <td>40.862879</td>\n",
       "      <td>14.089347</td>\n",
       "      <td>6.775068</td>\n",
       "      <td>14.0893</td>\n",
       "      <td>6.77507</td>\n",
       "      <td>7.31428</td>\n",
       "    </tr>\n",
       "    <tr>\n",
       "      <th>1</th>\n",
       "      <td>2</td>\n",
       "      <td>66</td>\n",
       "      <td>41</td>\n",
       "      <td>25</td>\n",
       "      <td>36.054230</td>\n",
       "      <td>14.089347</td>\n",
       "      <td>6.775068</td>\n",
       "      <td>28.1787</td>\n",
       "      <td>13.5501</td>\n",
       "      <td>14.6286</td>\n",
       "    </tr>\n",
       "    <tr>\n",
       "      <th>2</th>\n",
       "      <td>3</td>\n",
       "      <td>65</td>\n",
       "      <td>37</td>\n",
       "      <td>28</td>\n",
       "      <td>33.846335</td>\n",
       "      <td>12.714777</td>\n",
       "      <td>7.588076</td>\n",
       "      <td>40.8935</td>\n",
       "      <td>21.1382</td>\n",
       "      <td>19.7553</td>\n",
       "    </tr>\n",
       "    <tr>\n",
       "      <th>3</th>\n",
       "      <td>4</td>\n",
       "      <td>67</td>\n",
       "      <td>36</td>\n",
       "      <td>31</td>\n",
       "      <td>33.875313</td>\n",
       "      <td>12.371134</td>\n",
       "      <td>8.401084</td>\n",
       "      <td>53.2646</td>\n",
       "      <td>29.5393</td>\n",
       "      <td>23.7253</td>\n",
       "    </tr>\n",
       "    <tr>\n",
       "      <th>4</th>\n",
       "      <td>5</td>\n",
       "      <td>66</td>\n",
       "      <td>19</td>\n",
       "      <td>47</td>\n",
       "      <td>32.001423</td>\n",
       "      <td>6.529210</td>\n",
       "      <td>12.737127</td>\n",
       "      <td>59.7938</td>\n",
       "      <td>42.2764</td>\n",
       "      <td>17.5174</td>\n",
       "    </tr>\n",
       "    <tr>\n",
       "      <th>5</th>\n",
       "      <td>6</td>\n",
       "      <td>66</td>\n",
       "      <td>29</td>\n",
       "      <td>37</td>\n",
       "      <td>31.436311</td>\n",
       "      <td>9.965636</td>\n",
       "      <td>10.027100</td>\n",
       "      <td>69.7595</td>\n",
       "      <td>52.3035</td>\n",
       "      <td>17.4559</td>\n",
       "    </tr>\n",
       "    <tr>\n",
       "      <th>6</th>\n",
       "      <td>7</td>\n",
       "      <td>66</td>\n",
       "      <td>24</td>\n",
       "      <td>42</td>\n",
       "      <td>30.427457</td>\n",
       "      <td>8.247423</td>\n",
       "      <td>11.382114</td>\n",
       "      <td>78.0069</td>\n",
       "      <td>63.6856</td>\n",
       "      <td>14.3212</td>\n",
       "    </tr>\n",
       "    <tr>\n",
       "      <th>7</th>\n",
       "      <td>8</td>\n",
       "      <td>66</td>\n",
       "      <td>31</td>\n",
       "      <td>35</td>\n",
       "      <td>28.846167</td>\n",
       "      <td>10.652921</td>\n",
       "      <td>9.485095</td>\n",
       "      <td>88.6598</td>\n",
       "      <td>73.1707</td>\n",
       "      <td>15.4891</td>\n",
       "    </tr>\n",
       "    <tr>\n",
       "      <th>8</th>\n",
       "      <td>9</td>\n",
       "      <td>66</td>\n",
       "      <td>17</td>\n",
       "      <td>49</td>\n",
       "      <td>27.371548</td>\n",
       "      <td>5.841924</td>\n",
       "      <td>13.279133</td>\n",
       "      <td>94.5017</td>\n",
       "      <td>86.4499</td>\n",
       "      <td>8.05185</td>\n",
       "    </tr>\n",
       "    <tr>\n",
       "      <th>9</th>\n",
       "      <td>10</td>\n",
       "      <td>66</td>\n",
       "      <td>16</td>\n",
       "      <td>50</td>\n",
       "      <td>24.791539</td>\n",
       "      <td>5.498282</td>\n",
       "      <td>13.550136</td>\n",
       "      <td>100</td>\n",
       "      <td>100</td>\n",
       "      <td>1.42109e-14</td>\n",
       "    </tr>\n",
       "  </tbody>\n",
       "</table>\n",
       "</div>"
      ],
      "text/plain": [
       "   Decile  Count  Target  Non_Target  Prob_Target      1_pct      0_pct  \\\n",
       "0       1     66      41          25    40.862879  14.089347   6.775068   \n",
       "1       2     66      41          25    36.054230  14.089347   6.775068   \n",
       "2       3     65      37          28    33.846335  12.714777   7.588076   \n",
       "3       4     67      36          31    33.875313  12.371134   8.401084   \n",
       "4       5     66      19          47    32.001423   6.529210  12.737127   \n",
       "5       6     66      29          37    31.436311   9.965636  10.027100   \n",
       "6       7     66      24          42    30.427457   8.247423  11.382114   \n",
       "7       8     66      31          35    28.846167  10.652921   9.485095   \n",
       "8       9     66      17          49    27.371548   5.841924  13.279133   \n",
       "9      10     66      16          50    24.791539   5.498282  13.550136   \n",
       "\n",
       "     1_cum    0_cum           KS  \n",
       "0  14.0893  6.77507      7.31428  \n",
       "1  28.1787  13.5501      14.6286  \n",
       "2  40.8935  21.1382      19.7553  \n",
       "3  53.2646  29.5393      23.7253  \n",
       "4  59.7938  42.2764      17.5174  \n",
       "5  69.7595  52.3035      17.4559  \n",
       "6  78.0069  63.6856      14.3212  \n",
       "7  88.6598  73.1707      15.4891  \n",
       "8  94.5017  86.4499      8.05185  \n",
       "9      100      100  1.42109e-14  "
      ]
     },
     "execution_count": 101,
     "metadata": {},
     "output_type": "execute_result"
    }
   ],
   "source": [
    "dec_test_f"
   ]
  },
  {
   "cell_type": "code",
   "execution_count": 102,
   "metadata": {},
   "outputs": [
    {
     "data": {
      "text/html": [
       "<div>\n",
       "<style>\n",
       "    .dataframe thead tr:only-child th {\n",
       "        text-align: right;\n",
       "    }\n",
       "\n",
       "    .dataframe thead th {\n",
       "        text-align: left;\n",
       "    }\n",
       "\n",
       "    .dataframe tbody tr th {\n",
       "        vertical-align: top;\n",
       "    }\n",
       "</style>\n",
       "<table border=\"1\" class=\"dataframe\">\n",
       "  <thead>\n",
       "    <tr style=\"text-align: right;\">\n",
       "      <th></th>\n",
       "      <th>Decile</th>\n",
       "      <th>Count</th>\n",
       "      <th>Target</th>\n",
       "      <th>Non_Target</th>\n",
       "      <th>Prob_Target</th>\n",
       "      <th>1_pct</th>\n",
       "      <th>0_pct</th>\n",
       "      <th>1_cum</th>\n",
       "      <th>0_cum</th>\n",
       "      <th>KS</th>\n",
       "    </tr>\n",
       "  </thead>\n",
       "  <tbody>\n",
       "    <tr>\n",
       "      <th>0</th>\n",
       "      <td>1</td>\n",
       "      <td>82</td>\n",
       "      <td>59</td>\n",
       "      <td>23</td>\n",
       "      <td>52.712005</td>\n",
       "      <td>14.567901</td>\n",
       "      <td>5.476190</td>\n",
       "      <td>14.5679</td>\n",
       "      <td>5.47619</td>\n",
       "      <td>9.09171</td>\n",
       "    </tr>\n",
       "    <tr>\n",
       "      <th>1</th>\n",
       "      <td>2</td>\n",
       "      <td>83</td>\n",
       "      <td>53</td>\n",
       "      <td>30</td>\n",
       "      <td>45.708989</td>\n",
       "      <td>13.086420</td>\n",
       "      <td>7.142857</td>\n",
       "      <td>27.6543</td>\n",
       "      <td>12.619</td>\n",
       "      <td>15.0353</td>\n",
       "    </tr>\n",
       "    <tr>\n",
       "      <th>2</th>\n",
       "      <td>3</td>\n",
       "      <td>83</td>\n",
       "      <td>53</td>\n",
       "      <td>30</td>\n",
       "      <td>43.180620</td>\n",
       "      <td>13.086420</td>\n",
       "      <td>7.142857</td>\n",
       "      <td>40.7407</td>\n",
       "      <td>19.7619</td>\n",
       "      <td>20.9788</td>\n",
       "    </tr>\n",
       "    <tr>\n",
       "      <th>3</th>\n",
       "      <td>4</td>\n",
       "      <td>82</td>\n",
       "      <td>43</td>\n",
       "      <td>39</td>\n",
       "      <td>41.412301</td>\n",
       "      <td>10.617284</td>\n",
       "      <td>9.285714</td>\n",
       "      <td>51.358</td>\n",
       "      <td>29.0476</td>\n",
       "      <td>22.3104</td>\n",
       "    </tr>\n",
       "    <tr>\n",
       "      <th>4</th>\n",
       "      <td>5</td>\n",
       "      <td>82</td>\n",
       "      <td>32</td>\n",
       "      <td>50</td>\n",
       "      <td>39.780618</td>\n",
       "      <td>7.901235</td>\n",
       "      <td>11.904762</td>\n",
       "      <td>59.2593</td>\n",
       "      <td>40.9524</td>\n",
       "      <td>18.3069</td>\n",
       "    </tr>\n",
       "    <tr>\n",
       "      <th>5</th>\n",
       "      <td>6</td>\n",
       "      <td>83</td>\n",
       "      <td>36</td>\n",
       "      <td>47</td>\n",
       "      <td>39.772186</td>\n",
       "      <td>8.888889</td>\n",
       "      <td>11.190476</td>\n",
       "      <td>68.1481</td>\n",
       "      <td>52.1429</td>\n",
       "      <td>16.0053</td>\n",
       "    </tr>\n",
       "    <tr>\n",
       "      <th>6</th>\n",
       "      <td>7</td>\n",
       "      <td>82</td>\n",
       "      <td>38</td>\n",
       "      <td>44</td>\n",
       "      <td>38.284410</td>\n",
       "      <td>9.382716</td>\n",
       "      <td>10.476190</td>\n",
       "      <td>77.5309</td>\n",
       "      <td>62.619</td>\n",
       "      <td>14.9118</td>\n",
       "    </tr>\n",
       "    <tr>\n",
       "      <th>7</th>\n",
       "      <td>8</td>\n",
       "      <td>83</td>\n",
       "      <td>40</td>\n",
       "      <td>43</td>\n",
       "      <td>36.968678</td>\n",
       "      <td>9.876543</td>\n",
       "      <td>10.238095</td>\n",
       "      <td>87.4074</td>\n",
       "      <td>72.8571</td>\n",
       "      <td>14.5503</td>\n",
       "    </tr>\n",
       "    <tr>\n",
       "      <th>8</th>\n",
       "      <td>9</td>\n",
       "      <td>82</td>\n",
       "      <td>19</td>\n",
       "      <td>63</td>\n",
       "      <td>34.521949</td>\n",
       "      <td>4.691358</td>\n",
       "      <td>15.000000</td>\n",
       "      <td>92.0988</td>\n",
       "      <td>87.8571</td>\n",
       "      <td>4.24162</td>\n",
       "    </tr>\n",
       "    <tr>\n",
       "      <th>9</th>\n",
       "      <td>10</td>\n",
       "      <td>83</td>\n",
       "      <td>32</td>\n",
       "      <td>51</td>\n",
       "      <td>32.007794</td>\n",
       "      <td>7.901235</td>\n",
       "      <td>12.142857</td>\n",
       "      <td>100</td>\n",
       "      <td>100</td>\n",
       "      <td>1.42109e-14</td>\n",
       "    </tr>\n",
       "  </tbody>\n",
       "</table>\n",
       "</div>"
      ],
      "text/plain": [
       "   Decile  Count  Target  Non_Target  Prob_Target      1_pct      0_pct  \\\n",
       "0       1     82      59          23    52.712005  14.567901   5.476190   \n",
       "1       2     83      53          30    45.708989  13.086420   7.142857   \n",
       "2       3     83      53          30    43.180620  13.086420   7.142857   \n",
       "3       4     82      43          39    41.412301  10.617284   9.285714   \n",
       "4       5     82      32          50    39.780618   7.901235  11.904762   \n",
       "5       6     83      36          47    39.772186   8.888889  11.190476   \n",
       "6       7     82      38          44    38.284410   9.382716  10.476190   \n",
       "7       8     83      40          43    36.968678   9.876543  10.238095   \n",
       "8       9     82      19          63    34.521949   4.691358  15.000000   \n",
       "9      10     83      32          51    32.007794   7.901235  12.142857   \n",
       "\n",
       "     1_cum    0_cum           KS  \n",
       "0  14.5679  5.47619      9.09171  \n",
       "1  27.6543   12.619      15.0353  \n",
       "2  40.7407  19.7619      20.9788  \n",
       "3   51.358  29.0476      22.3104  \n",
       "4  59.2593  40.9524      18.3069  \n",
       "5  68.1481  52.1429      16.0053  \n",
       "6  77.5309   62.619      14.9118  \n",
       "7  87.4074  72.8571      14.5503  \n",
       "8  92.0988  87.8571      4.24162  \n",
       "9      100      100  1.42109e-14  "
      ]
     },
     "execution_count": 102,
     "metadata": {},
     "output_type": "execute_result"
    }
   ],
   "source": [
    "dec_val"
   ]
  },
  {
   "cell_type": "code",
   "execution_count": null,
   "metadata": {},
   "outputs": [],
   "source": []
  }
 ],
 "metadata": {
  "kernelspec": {
   "display_name": "Python 3",
   "language": "python",
   "name": "python3"
  },
  "language_info": {
   "codemirror_mode": {
    "name": "ipython",
    "version": 3
   },
   "file_extension": ".py",
   "mimetype": "text/x-python",
   "name": "python",
   "nbconvert_exporter": "python",
   "pygments_lexer": "ipython3",
   "version": "3.7.4"
  }
 },
 "nbformat": 4,
 "nbformat_minor": 2
}
